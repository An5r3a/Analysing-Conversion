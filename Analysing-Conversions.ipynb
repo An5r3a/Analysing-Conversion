{
 "cells": [
  {
   "cell_type": "code",
   "execution_count": 1,
   "id": "7b09890c",
   "metadata": {},
   "outputs": [
    {
     "data": {
      "text/html": [
       "<style type='text/css'>\n",
       ".datatable table.frame { margin-bottom: 0; }\n",
       ".datatable table.frame thead { border-bottom: none; }\n",
       ".datatable table.frame tr.coltypes td {  color: #FFFFFF;  line-height: 6px;  padding: 0 0.5em;}\n",
       ".datatable .bool    { background: #DDDD99; }\n",
       ".datatable .object  { background: #565656; }\n",
       ".datatable .int     { background: #5D9E5D; }\n",
       ".datatable .float   { background: #4040CC; }\n",
       ".datatable .str     { background: #CC4040; }\n",
       ".datatable .time    { background: #40CC40; }\n",
       ".datatable .row_index {  background: var(--jp-border-color3);  border-right: 1px solid var(--jp-border-color0);  color: var(--jp-ui-font-color3);  font-size: 9px;}\n",
       ".datatable .frame tbody td { text-align: left; }\n",
       ".datatable .frame tr.coltypes .row_index {  background: var(--jp-border-color0);}\n",
       ".datatable th:nth-child(2) { padding-left: 12px; }\n",
       ".datatable .hellipsis {  color: var(--jp-cell-editor-border-color);}\n",
       ".datatable .vellipsis {  background: var(--jp-layout-color0);  color: var(--jp-cell-editor-border-color);}\n",
       ".datatable .na {  color: var(--jp-cell-editor-border-color);  font-size: 80%;}\n",
       ".datatable .sp {  opacity: 0.25;}\n",
       ".datatable .footer { font-size: 9px; }\n",
       ".datatable .frame_dimensions {  background: var(--jp-border-color3);  border-top: 1px solid var(--jp-border-color0);  color: var(--jp-ui-font-color3);  display: inline-block;  opacity: 0.6;  padding: 1px 10px 1px 5px;}\n",
       "</style>\n"
      ],
      "text/plain": [
       "<IPython.core.display.HTML object>"
      ]
     },
     "metadata": {},
     "output_type": "display_data"
    }
   ],
   "source": [
    "import pandas as pd\n",
    "import numpy as np\n",
    "import os\n",
    "import seaborn as sns\n",
    "import matplotlib.pyplot as plt\n",
    "import matplotlib as mpl\n",
    "import matplotlib\n",
    "import matplotlib.ticker as ticker\n",
    "from matplotlib.ticker import FormatStrFormatter\n",
    "import datatable as dt\n",
    "\n",
    "from collections import Counter\n",
    "\n",
    "from sklearn.linear_model import LogisticRegression\n",
    "from sklearn.svm import SVC, LinearSVC\n",
    "from sklearn.ensemble import RandomForestClassifier, AdaBoostClassifier, GradientBoostingClassifier, ExtraTreesClassifier, VotingClassifier\n",
    "from sklearn.discriminant_analysis import LinearDiscriminantAnalysis\n",
    "from sklearn.neighbors import KNeighborsClassifier\n",
    "from sklearn.naive_bayes import GaussianNB\n",
    "from sklearn.tree import DecisionTreeClassifier\n",
    "from sklearn.neural_network import MLPClassifier\n",
    "from sklearn.model_selection import GridSearchCV, cross_val_score, StratifiedKFold, learning_curve, cross_validate\n",
    "from sklearn.metrics import confusion_matrix, precision_score, recall_score, f1_score, make_scorer, roc_auc_score,accuracy_score, roc_curve\n",
    "from scipy.stats import ks_2samp\n",
    "from treeinterpreter import treeinterpreter as ti\n",
    "from sklearn import metrics\n",
    "from sklearn.model_selection import train_test_split\n",
    "from sklearn.preprocessing import LabelEncoder"
   ]
  },
  {
   "cell_type": "code",
   "execution_count": 2,
   "id": "bbea8ce4",
   "metadata": {},
   "outputs": [
    {
     "data": {
      "text/html": [
       "<div>\n",
       "<style scoped>\n",
       "    .dataframe tbody tr th:only-of-type {\n",
       "        vertical-align: middle;\n",
       "    }\n",
       "\n",
       "    .dataframe tbody tr th {\n",
       "        vertical-align: top;\n",
       "    }\n",
       "\n",
       "    .dataframe thead th {\n",
       "        text-align: right;\n",
       "    }\n",
       "</style>\n",
       "<table border=\"1\" class=\"dataframe\">\n",
       "  <thead>\n",
       "    <tr style=\"text-align: right;\">\n",
       "      <th></th>\n",
       "      <th>age</th>\n",
       "      <th>joined_getsafe_at</th>\n",
       "      <th>language</th>\n",
       "      <th>channel</th>\n",
       "      <th>first_product</th>\n",
       "      <th>zip_bucket</th>\n",
       "      <th>area_classification</th>\n",
       "      <th>most_used_os</th>\n",
       "      <th>buying_platform</th>\n",
       "      <th>converted</th>\n",
       "    </tr>\n",
       "  </thead>\n",
       "  <tbody>\n",
       "    <tr>\n",
       "      <th>0</th>\n",
       "      <td>51</td>\n",
       "      <td>2020-04-21 18:19:07</td>\n",
       "      <td>de</td>\n",
       "      <td>paid_social</td>\n",
       "      <td>legal</td>\n",
       "      <td>539xx</td>\n",
       "      <td>rural</td>\n",
       "      <td>Android</td>\n",
       "      <td>web</td>\n",
       "      <td>1</td>\n",
       "    </tr>\n",
       "    <tr>\n",
       "      <th>1</th>\n",
       "      <td>18</td>\n",
       "      <td>2020-08-09 20:14:37</td>\n",
       "      <td>de</td>\n",
       "      <td>direct</td>\n",
       "      <td>liability</td>\n",
       "      <td>305xx</td>\n",
       "      <td>urban</td>\n",
       "      <td>Android</td>\n",
       "      <td>app</td>\n",
       "      <td>1</td>\n",
       "    </tr>\n",
       "    <tr>\n",
       "      <th>2</th>\n",
       "      <td>20</td>\n",
       "      <td>2020-08-03 00:51:27</td>\n",
       "      <td>de</td>\n",
       "      <td>aggregator</td>\n",
       "      <td>liability</td>\n",
       "      <td>882xx</td>\n",
       "      <td>rural</td>\n",
       "      <td>Android</td>\n",
       "      <td>app</td>\n",
       "      <td>1</td>\n",
       "    </tr>\n",
       "  </tbody>\n",
       "</table>\n",
       "</div>"
      ],
      "text/plain": [
       "   age    joined_getsafe_at language      channel first_product zip_bucket  \\\n",
       "0   51  2020-04-21 18:19:07       de  paid_social         legal      539xx   \n",
       "1   18  2020-08-09 20:14:37       de       direct     liability      305xx   \n",
       "2   20  2020-08-03 00:51:27       de   aggregator     liability      882xx   \n",
       "\n",
       "  area_classification most_used_os buying_platform  converted  \n",
       "0               rural      Android             web          1  \n",
       "1               urban      Android             app          1  \n",
       "2               rural      Android             app          1  "
      ]
     },
     "execution_count": 2,
     "metadata": {},
     "output_type": "execute_result"
    }
   ],
   "source": [
    "df = pd.read_csv('converted_data.csv',sep=',',header=0)\n",
    "df.head(3)"
   ]
  },
  {
   "cell_type": "code",
   "execution_count": 3,
   "id": "9ced8b77",
   "metadata": {},
   "outputs": [
    {
     "data": {
      "text/plain": [
       "(6000, 10)"
      ]
     },
     "execution_count": 3,
     "metadata": {},
     "output_type": "execute_result"
    }
   ],
   "source": [
    "df.shape"
   ]
  },
  {
   "cell_type": "markdown",
   "id": "89c67162",
   "metadata": {},
   "source": [
    "## Data preprocessing"
   ]
  },
  {
   "cell_type": "markdown",
   "id": "b3201c5a",
   "metadata": {},
   "source": [
    "Checking data types"
   ]
  },
  {
   "cell_type": "code",
   "execution_count": 4,
   "id": "f9f62875",
   "metadata": {},
   "outputs": [
    {
     "data": {
      "text/plain": [
       "age                     int64\n",
       "joined_getsafe_at      object\n",
       "language               object\n",
       "channel                object\n",
       "first_product          object\n",
       "zip_bucket             object\n",
       "area_classification    object\n",
       "most_used_os           object\n",
       "buying_platform        object\n",
       "converted               int64\n",
       "dtype: object"
      ]
     },
     "execution_count": 4,
     "metadata": {},
     "output_type": "execute_result"
    }
   ],
   "source": [
    "df.dtypes"
   ]
  },
  {
   "cell_type": "markdown",
   "id": "3bb81ad0",
   "metadata": {},
   "source": [
    "We need to convert joined_getsafe_at to date format"
   ]
  },
  {
   "cell_type": "code",
   "execution_count": 5,
   "id": "d0853164",
   "metadata": {},
   "outputs": [],
   "source": [
    "df['joined_getsafe_at'] = df['joined_getsafe_at'].astype('datetime64')\n"
   ]
  },
  {
   "cell_type": "markdown",
   "id": "a1ff0ad0",
   "metadata": {},
   "source": [
    "Let's check for missing values"
   ]
  },
  {
   "cell_type": "code",
   "execution_count": 6,
   "id": "32422f7c",
   "metadata": {},
   "outputs": [],
   "source": [
    "# Define a function to visulize the features with missing values, and % of total values, & datatype\n",
    "def missing_values_table(df):\n",
    "     # Total missing values\n",
    "    mis_val = df.isnull().sum()\n",
    "    # Percentage of missing values\n",
    "    mis_val_percent = 100 * df.isnull().sum() / len(df)\n",
    "    mis_val_type = df.dtypes\n",
    "    # Make a table with the results\n",
    "    mis_val_table = pd.concat([mis_val, mis_val_percent, mis_val_type], axis=1)\n",
    "        \n",
    "     # Rename the columns\n",
    "    mis_val_table_ren_columns = mis_val_table.rename(columns = {0 : 'Missing Values', 1 : '% of Total Values', 2: 'type'})\n",
    "        \n",
    "    # Sort the table by percentage of missing descending\n",
    "    mis_val_table_ren_columns = mis_val_table_ren_columns[ mis_val_table_ren_columns.iloc[:,1] != 0].sort_values('% of Total Values', ascending=False).round(1)\n",
    "        \n",
    "    # Print some summary information\n",
    "    print (\"Your selected dataframe has \" + str(df.shape[1]) + \" columns.\\n\" \"There are \" + str(mis_val_table_ren_columns.shape[0]) + \" columns that have missing values.\")\n",
    "        \n",
    "    # Return the dataframe with missing information\n",
    "    return mis_val_table_ren_columns"
   ]
  },
  {
   "cell_type": "code",
   "execution_count": 7,
   "id": "a42c6422",
   "metadata": {},
   "outputs": [
    {
     "name": "stdout",
     "output_type": "stream",
     "text": [
      "Your selected dataframe has 10 columns.\n",
      "There are 3 columns that have missing values.\n"
     ]
    },
    {
     "data": {
      "text/html": [
       "<div>\n",
       "<style scoped>\n",
       "    .dataframe tbody tr th:only-of-type {\n",
       "        vertical-align: middle;\n",
       "    }\n",
       "\n",
       "    .dataframe tbody tr th {\n",
       "        vertical-align: top;\n",
       "    }\n",
       "\n",
       "    .dataframe thead th {\n",
       "        text-align: right;\n",
       "    }\n",
       "</style>\n",
       "<table border=\"1\" class=\"dataframe\">\n",
       "  <thead>\n",
       "    <tr style=\"text-align: right;\">\n",
       "      <th></th>\n",
       "      <th>Missing Values</th>\n",
       "      <th>% of Total Values</th>\n",
       "      <th>type</th>\n",
       "    </tr>\n",
       "  </thead>\n",
       "  <tbody>\n",
       "    <tr>\n",
       "      <th>buying_platform</th>\n",
       "      <td>2872</td>\n",
       "      <td>47.9</td>\n",
       "      <td>object</td>\n",
       "    </tr>\n",
       "    <tr>\n",
       "      <th>most_used_os</th>\n",
       "      <td>586</td>\n",
       "      <td>9.8</td>\n",
       "      <td>object</td>\n",
       "    </tr>\n",
       "    <tr>\n",
       "      <th>area_classification</th>\n",
       "      <td>19</td>\n",
       "      <td>0.3</td>\n",
       "      <td>object</td>\n",
       "    </tr>\n",
       "  </tbody>\n",
       "</table>\n",
       "</div>"
      ],
      "text/plain": [
       "                     Missing Values  % of Total Values    type\n",
       "buying_platform                2872               47.9  object\n",
       "most_used_os                    586                9.8  object\n",
       "area_classification              19                0.3  object"
      ]
     },
     "execution_count": 7,
     "metadata": {},
     "output_type": "execute_result"
    }
   ],
   "source": [
    "missing_values_table(df)"
   ]
  },
  {
   "cell_type": "markdown",
   "id": "81971d73",
   "metadata": {},
   "source": [
    "There are 3 variables with missing values 'Most used OS' and 'Area Classification' have very small percentage of missing data. 'Buying platform' has 48% of missing values. We will analyse this variable and decide how to label the missing values.  "
   ]
  },
  {
   "cell_type": "markdown",
   "id": "87ccfb34",
   "metadata": {},
   "source": [
    "## Feature Engineering"
   ]
  },
  {
   "cell_type": "markdown",
   "id": "29f600f9",
   "metadata": {},
   "source": [
    "First, let's extract year and month from joined date."
   ]
  },
  {
   "cell_type": "code",
   "execution_count": 8,
   "id": "082d98a3",
   "metadata": {},
   "outputs": [],
   "source": [
    "df['Year'] = df['joined_getsafe_at'].apply(lambda x: x.year)\n",
    "df['Month'] = df['joined_getsafe_at'].apply(lambda x: x.month)"
   ]
  },
  {
   "cell_type": "code",
   "execution_count": 9,
   "id": "8e517a48",
   "metadata": {},
   "outputs": [],
   "source": [
    "df['Hour'] = df['joined_getsafe_at'].apply(lambda x: x.hour)\n",
    "df['DayNumber'] = df['joined_getsafe_at'].apply(lambda x: x.weekday())"
   ]
  },
  {
   "cell_type": "markdown",
   "id": "ebbb49db",
   "metadata": {},
   "source": [
    "We need to convert day number to day names"
   ]
  },
  {
   "cell_type": "code",
   "execution_count": 10,
   "id": "0b285f9e",
   "metadata": {},
   "outputs": [
    {
     "data": {
      "text/plain": [
       "array([0, 1, 2, 3, 4, 5, 6], dtype=int64)"
      ]
     },
     "execution_count": 10,
     "metadata": {},
     "output_type": "execute_result"
    }
   ],
   "source": [
    "day_numbers = np.unique(df['DayNumber'])\n",
    "day_numbers"
   ]
  },
  {
   "cell_type": "code",
   "execution_count": 11,
   "id": "2dfc4387",
   "metadata": {},
   "outputs": [],
   "source": [
    "target_names = pd.Series(day_numbers).map({0: 'Monday',1:'Tuesday',2:'Wednesday',\n",
    "                                        3:'Thursday',4:'Friday',5:'Saturday',6:'Sunday'})\n"
   ]
  },
  {
   "cell_type": "code",
   "execution_count": 12,
   "id": "d99bb6a4",
   "metadata": {},
   "outputs": [],
   "source": [
    "df['Day'] = df['DayNumber'].apply(lambda x: target_names[x])"
   ]
  },
  {
   "cell_type": "code",
   "execution_count": 13,
   "id": "2ed16fed",
   "metadata": {},
   "outputs": [
    {
     "data": {
      "text/html": [
       "<div>\n",
       "<style scoped>\n",
       "    .dataframe tbody tr th:only-of-type {\n",
       "        vertical-align: middle;\n",
       "    }\n",
       "\n",
       "    .dataframe tbody tr th {\n",
       "        vertical-align: top;\n",
       "    }\n",
       "\n",
       "    .dataframe thead th {\n",
       "        text-align: right;\n",
       "    }\n",
       "</style>\n",
       "<table border=\"1\" class=\"dataframe\">\n",
       "  <thead>\n",
       "    <tr style=\"text-align: right;\">\n",
       "      <th></th>\n",
       "      <th>age</th>\n",
       "      <th>joined_getsafe_at</th>\n",
       "      <th>language</th>\n",
       "      <th>channel</th>\n",
       "      <th>first_product</th>\n",
       "      <th>zip_bucket</th>\n",
       "      <th>area_classification</th>\n",
       "      <th>most_used_os</th>\n",
       "      <th>buying_platform</th>\n",
       "      <th>converted</th>\n",
       "      <th>Year</th>\n",
       "      <th>Month</th>\n",
       "      <th>Hour</th>\n",
       "      <th>DayNumber</th>\n",
       "      <th>Day</th>\n",
       "    </tr>\n",
       "  </thead>\n",
       "  <tbody>\n",
       "    <tr>\n",
       "      <th>0</th>\n",
       "      <td>51</td>\n",
       "      <td>2020-04-21 18:19:07</td>\n",
       "      <td>de</td>\n",
       "      <td>paid_social</td>\n",
       "      <td>legal</td>\n",
       "      <td>539xx</td>\n",
       "      <td>rural</td>\n",
       "      <td>Android</td>\n",
       "      <td>web</td>\n",
       "      <td>1</td>\n",
       "      <td>2020</td>\n",
       "      <td>4</td>\n",
       "      <td>18</td>\n",
       "      <td>1</td>\n",
       "      <td>Tuesday</td>\n",
       "    </tr>\n",
       "    <tr>\n",
       "      <th>1</th>\n",
       "      <td>18</td>\n",
       "      <td>2020-08-09 20:14:37</td>\n",
       "      <td>de</td>\n",
       "      <td>direct</td>\n",
       "      <td>liability</td>\n",
       "      <td>305xx</td>\n",
       "      <td>urban</td>\n",
       "      <td>Android</td>\n",
       "      <td>app</td>\n",
       "      <td>1</td>\n",
       "      <td>2020</td>\n",
       "      <td>8</td>\n",
       "      <td>20</td>\n",
       "      <td>6</td>\n",
       "      <td>Sunday</td>\n",
       "    </tr>\n",
       "    <tr>\n",
       "      <th>2</th>\n",
       "      <td>20</td>\n",
       "      <td>2020-08-03 00:51:27</td>\n",
       "      <td>de</td>\n",
       "      <td>aggregator</td>\n",
       "      <td>liability</td>\n",
       "      <td>882xx</td>\n",
       "      <td>rural</td>\n",
       "      <td>Android</td>\n",
       "      <td>app</td>\n",
       "      <td>1</td>\n",
       "      <td>2020</td>\n",
       "      <td>8</td>\n",
       "      <td>0</td>\n",
       "      <td>0</td>\n",
       "      <td>Monday</td>\n",
       "    </tr>\n",
       "  </tbody>\n",
       "</table>\n",
       "</div>"
      ],
      "text/plain": [
       "   age   joined_getsafe_at language      channel first_product zip_bucket  \\\n",
       "0   51 2020-04-21 18:19:07       de  paid_social         legal      539xx   \n",
       "1   18 2020-08-09 20:14:37       de       direct     liability      305xx   \n",
       "2   20 2020-08-03 00:51:27       de   aggregator     liability      882xx   \n",
       "\n",
       "  area_classification most_used_os buying_platform  converted  Year  Month  \\\n",
       "0               rural      Android             web          1  2020      4   \n",
       "1               urban      Android             app          1  2020      8   \n",
       "2               rural      Android             app          1  2020      8   \n",
       "\n",
       "   Hour  DayNumber      Day  \n",
       "0    18          1  Tuesday  \n",
       "1    20          6   Sunday  \n",
       "2     0          0   Monday  "
      ]
     },
     "execution_count": 13,
     "metadata": {},
     "output_type": "execute_result"
    }
   ],
   "source": [
    "df.head(3)"
   ]
  },
  {
   "cell_type": "markdown",
   "id": "f594e7b0",
   "metadata": {},
   "source": [
    "## Exploratory Data Analysis"
   ]
  },
  {
   "cell_type": "code",
   "execution_count": 14,
   "id": "ac916d5a",
   "metadata": {},
   "outputs": [
    {
     "name": "stderr",
     "output_type": "stream",
     "text": [
      "<ipython-input-14-3a9bb464d734>:1: FutureWarning: Treating datetime data as categorical rather than numeric in `.describe` is deprecated and will be removed in a future version of pandas. Specify `datetime_is_numeric=True` to silence this warning and adopt the future behavior now.\n",
      "  df['joined_getsafe_at'].describe()\n"
     ]
    },
    {
     "data": {
      "text/plain": [
       "count                    6000\n",
       "unique                   5783\n",
       "top       2020-03-01 23:15:24\n",
       "freq                        3\n",
       "first     2020-01-01 04:05:25\n",
       "last      2020-10-31 22:30:02\n",
       "Name: joined_getsafe_at, dtype: object"
      ]
     },
     "execution_count": 14,
     "metadata": {},
     "output_type": "execute_result"
    }
   ],
   "source": [
    "df['joined_getsafe_at'].describe()"
   ]
  },
  {
   "cell_type": "markdown",
   "id": "eda6aaf9",
   "metadata": {},
   "source": [
    "There are 5,783 unique dates. The first customer that joined getsafe was in Jan 2020 and the last record we have in the dataset is from customers joining on the 31st of October 2020. "
   ]
  },
  {
   "cell_type": "markdown",
   "id": "66ab34fd",
   "metadata": {},
   "source": [
    "In the plot below, we can see that October is the month when more customers joined getsafe, followed by September and August"
   ]
  },
  {
   "cell_type": "code",
   "execution_count": 15,
   "id": "9f8573d0",
   "metadata": {},
   "outputs": [
    {
     "data": {
      "text/plain": [
       "Text(0.5, 1.0, 'Number of Signups per Month')"
      ]
     },
     "execution_count": 15,
     "metadata": {},
     "output_type": "execute_result"
    },
    {
     "data": {
      "image/png": "[encoded data removed]",
      "text/plain": [
       "<Figure size 720x216 with 1 Axes>"
      ]
     },
     "metadata": {
      "needs_background": "light"
     },
     "output_type": "display_data"
    }
   ],
   "source": [
    "month = df.groupby('Month', as_index=False)['channel'].count().sort_values(by='channel', ascending=False)\n",
    "plt.figure(figsize=(10,3))\n",
    "ax3 = sns.barplot(x=month['Month'], y=month['channel'], palette='GnBu_d')\n",
    "plt.xlabel('Month', fontsize=12)\n",
    "plt.ylabel('Customers', fontsize=12)\n",
    "plt.title('Number of Signups per Month', fontsize=14)"
   ]
  },
  {
   "cell_type": "markdown",
   "id": "95072c70",
   "metadata": {},
   "source": [
    "In the heatmap below, we plot the number of people that joined getsafe by day of the week and hour.\n",
    "We can the number of signups is very stable across the different days of the week and hour. There is more activity between 9 am and 7 pm, especially on Wednesday.\n",
    "We can also see that on Monday at 11 am and Thursday from 11 am to 12 pm there was an increase in the number of signups."
   ]
  },
  {
   "cell_type": "code",
   "execution_count": 16,
   "id": "d2eb3fe5",
   "metadata": {},
   "outputs": [
    {
     "data": {
      "image/png": "[encoded data removed]",
      "text/plain": [
       "<Figure size 720x432 with 2 Axes>"
      ]
     },
     "metadata": {
      "needs_background": "light"
     },
     "output_type": "display_data"
    }
   ],
   "source": [
    "dfhm = df.groupby(['Day','Hour'])['channel'].count().reset_index()\n",
    "dfhm.columns = ['Day','Hour','Customers']\n",
    "dfhm['Day'] = pd.CategoricalIndex(dfhm['Day'], categories= ['Monday','Tuesday','Wednesday','Thursday','Friday','Saturday','Sunday'])\n",
    "#dfhm.sortlevel(level=0, inplace=True)\n",
    "\n",
    "plt.figure(figsize=(10, 6))\n",
    "hm = dfhm.pivot_table(index='Hour', columns='Day',values='Customers')\n",
    "\n",
    "sns.heatmap( \n",
    "    hm, \n",
    "    cmap='YlGnBu',\n",
    "    linecolor='white', \n",
    "    linewidth=1 \n",
    ")\n",
    "\n",
    "plt.title('Signups per Day and Hour')\n",
    "plt.show() # Show "
   ]
  },
  {
   "cell_type": "markdown",
   "id": "53b24600",
   "metadata": {},
   "source": [
    "We do a similar plot but this time we consider the number of conversions by day and hour.\n",
    "We can see a similar patter by day and hour, however, there is an increase in conversions on Monday at 11 am"
   ]
  },
  {
   "cell_type": "code",
   "execution_count": 17,
   "id": "b2004769",
   "metadata": {},
   "outputs": [
    {
     "data": {
      "image/png": "[encoded data removed]",
      "text/plain": [
       "<Figure size 720x432 with 2 Axes>"
      ]
     },
     "metadata": {
      "needs_background": "light"
     },
     "output_type": "display_data"
    }
   ],
   "source": [
    "dfhm = df.groupby(['Day','Hour'])['converted'].sum().reset_index()\n",
    "dfhm.columns = ['Day','Hour','Conversions']\n",
    "dfhm['Day'] = pd.CategoricalIndex(dfhm['Day'], categories= ['Monday','Tuesday','Wednesday','Thursday','Friday','Saturday','Sunday'])\n",
    "#dfhm.sortlevel(level=0, inplace=True)\n",
    "\n",
    "plt.figure(figsize=(10, 6))\n",
    "hm = dfhm.pivot_table(index='Hour', columns='Day',values='Conversions')\n",
    "\n",
    "sns.heatmap( \n",
    "    hm, \n",
    "    cmap='YlGnBu',\n",
    "    linecolor='white', \n",
    "    linewidth=1 \n",
    ")\n",
    "\n",
    "plt.title('Conversions per Day and Hour')\n",
    "plt.show() # Show "
   ]
  },
  {
   "cell_type": "markdown",
   "id": "429ddcef",
   "metadata": {},
   "source": [
    "On average, there are 18 conversions per day. Monday has the most number of conversions, while Friday and Sunday have the least. "
   ]
  },
  {
   "cell_type": "code",
   "execution_count": 18,
   "id": "1d9feb6f",
   "metadata": {},
   "outputs": [
    {
     "data": {
      "text/plain": [
       "count    168.000000\n",
       "mean      17.857143\n",
       "std       11.203766\n",
       "min        0.000000\n",
       "25%        6.000000\n",
       "50%       20.000000\n",
       "75%       27.000000\n",
       "max       49.000000\n",
       "Name: Conversions, dtype: float64"
      ]
     },
     "execution_count": 18,
     "metadata": {},
     "output_type": "execute_result"
    }
   ],
   "source": [
    "dfhm['Conversions'].describe()"
   ]
  },
  {
   "cell_type": "code",
   "execution_count": 19,
   "id": "364c5377",
   "metadata": {},
   "outputs": [
    {
     "data": {
      "text/plain": [
       "Text(0.5, 1.0, 'Number of conversions per day')"
      ]
     },
     "execution_count": 19,
     "metadata": {},
     "output_type": "execute_result"
    },
    {
     "data": {
      "image/png": "[encoded data removed]",
      "text/plain": [
       "<Figure size 720x216 with 1 Axes>"
      ]
     },
     "metadata": {
      "needs_background": "light"
     },
     "output_type": "display_data"
    }
   ],
   "source": [
    "plt.figure(figsize=(10,3))\n",
    "ax3 = sns.barplot(x=dfhm['Day'], y=dfhm['Conversions'], palette='GnBu_d')\n",
    "plt.xlabel('Day', fontsize=12)\n",
    "plt.ylabel('Conversions', fontsize=12)\n",
    "plt.title('Number of conversions per day', fontsize=14)"
   ]
  },
  {
   "cell_type": "markdown",
   "id": "4ae0ba8d",
   "metadata": {},
   "source": [
    "Now, we analise the conversions by channel. In the plot below, we can see that aggregator is tha channel with more conversions. "
   ]
  },
  {
   "cell_type": "code",
   "execution_count": 20,
   "id": "bddcf4ab",
   "metadata": {},
   "outputs": [
    {
     "data": {
      "text/plain": [
       "Text(0.5, 1.0, 'Number of conversions by channel')"
      ]
     },
     "execution_count": 20,
     "metadata": {},
     "output_type": "execute_result"
    },
    {
     "data": {
      "image/png": "[encoded data removed]",
      "text/plain": [
       "<Figure size 1008x216 with 1 Axes>"
      ]
     },
     "metadata": {
      "needs_background": "light"
     },
     "output_type": "display_data"
    }
   ],
   "source": [
    "channel = df.groupby('channel', as_index=False)['converted'].sum()\n",
    "plt.figure(figsize=(14,3))\n",
    "ax3 = sns.barplot(x=channel['channel'], y=channel['converted'], palette='GnBu_d')\n",
    "plt.xlabel('Channel', fontsize=12)\n",
    "plt.ylabel('Conversions', fontsize=12)\n",
    "plt.title('Number of conversions by channel', fontsize=14)"
   ]
  },
  {
   "cell_type": "markdown",
   "id": "6cebb13a",
   "metadata": {},
   "source": [
    "Liability is the insurance product that attracts more people to join getsafe."
   ]
  },
  {
   "cell_type": "code",
   "execution_count": 21,
   "id": "89cb5dcc",
   "metadata": {},
   "outputs": [
    {
     "data": {
      "text/plain": [
       "Text(0.5, 1.0, 'Number of conversions by product')"
      ]
     },
     "execution_count": 21,
     "metadata": {},
     "output_type": "execute_result"
    },
    {
     "data": {
      "image/png": "[encoded data removed]",
      "text/plain": [
       "<Figure size 1008x216 with 1 Axes>"
      ]
     },
     "metadata": {
      "needs_background": "light"
     },
     "output_type": "display_data"
    }
   ],
   "source": [
    "channel = df.groupby('first_product', as_index=False)['converted'].sum()\n",
    "plt.figure(figsize=(14,3))\n",
    "ax3 = sns.barplot(x=channel['first_product'], y=channel['converted'], palette='GnBu_d')\n",
    "plt.xlabel('First Product', fontsize=12)\n",
    "plt.ylabel('Conversions', fontsize=12)\n",
    "plt.title('Number of conversions by product', fontsize=14)"
   ]
  },
  {
   "cell_type": "markdown",
   "id": "3891c865",
   "metadata": {},
   "source": [
    "Here we can see that the majority of the conversions for contents and liability come from aggregator. "
   ]
  },
  {
   "cell_type": "code",
   "execution_count": 22,
   "id": "ac73b28b",
   "metadata": {},
   "outputs": [
    {
     "data": {
      "image/png": "[encoded data removed]",
      "text/plain": [
       "<Figure size 720x432 with 2 Axes>"
      ]
     },
     "metadata": {
      "needs_background": "light"
     },
     "output_type": "display_data"
    }
   ],
   "source": [
    "dfhm = df.groupby(['channel','first_product'])['converted'].sum().reset_index()\n",
    "dfhm.columns = ['Channel','Product','Conversions']\n",
    "\n",
    "plt.figure(figsize=(10, 6))\n",
    "hm = dfhm.pivot_table(index='Product', columns='Channel',values='Conversions')\n",
    "\n",
    "sns.heatmap( \n",
    "    hm, \n",
    "    cmap='YlGnBu',\n",
    "    linecolor='white', \n",
    "    linewidth=1 \n",
    ")\n",
    "\n",
    "plt.title('Conversions by Channel')\n",
    "plt.show() # Show "
   ]
  },
  {
   "cell_type": "markdown",
   "id": "253a6798",
   "metadata": {},
   "source": [
    "We removed aggregator so that we can better analyse the conversions of other channels. In the heatmap below, we can see that affiliate deal drives more conversions to liability and travel, direct and paid social drive more conversions to contents and liability and referral to liability"
   ]
  },
  {
   "cell_type": "code",
   "execution_count": 23,
   "id": "e63259c2",
   "metadata": {},
   "outputs": [
    {
     "data": {
      "image/png": "[encoded data removed]",
      "text/plain": [
       "<Figure size 720x432 with 2 Axes>"
      ]
     },
     "metadata": {
      "needs_background": "light"
     },
     "output_type": "display_data"
    }
   ],
   "source": [
    "dfhm = df.groupby(['channel','first_product'])['converted'].sum().reset_index()\n",
    "dfhm.columns = ['Channel','Product','Conversions']\n",
    "dfhm = dfhm[dfhm['Channel'] != 'aggregator']\n",
    "plt.figure(figsize=(10, 6))\n",
    "hm = dfhm.pivot_table(index='Product', columns='Channel',values='Conversions')\n",
    "\n",
    "sns.heatmap( \n",
    "    hm, \n",
    "    cmap='YlGnBu',\n",
    "    linecolor='white', \n",
    "    linewidth=1 \n",
    ")\n",
    "\n",
    "plt.title('Conversions by Channel')\n",
    "plt.show() # Show "
   ]
  },
  {
   "cell_type": "markdown",
   "id": "861ec992",
   "metadata": {},
   "source": [
    "Web is the most popular buying platform (56%)"
   ]
  },
  {
   "cell_type": "code",
   "execution_count": 24,
   "id": "7c98143c",
   "metadata": {},
   "outputs": [
    {
     "data": {
      "image/png": "[encoded data removed]",
      "text/plain": [
       "<Figure size 432x288 with 1 Axes>"
      ]
     },
     "metadata": {},
     "output_type": "display_data"
    }
   ],
   "source": [
    "dfos = df[~df['buying_platform'].isnull()]\n",
    "\n",
    "colors = sns.color_palette('pastel')[0:2]\n",
    "datapie =  dfos['buying_platform'].value_counts()\n",
    "labels =  dfos['buying_platform'].unique()\n",
    "plt.pie(datapie, labels = labels, colors = colors, autopct='%.0f%%')\n",
    "plt.show()"
   ]
  },
  {
   "cell_type": "markdown",
   "id": "09826d80",
   "metadata": {},
   "source": [
    "Rural area has more conversions followed by urban and big 7"
   ]
  },
  {
   "cell_type": "code",
   "execution_count": 25,
   "id": "3facd1db",
   "metadata": {},
   "outputs": [
    {
     "data": {
      "image/png": "[encoded data removed]",
      "text/plain": [
       "<Figure size 432x288 with 1 Axes>"
      ]
     },
     "metadata": {},
     "output_type": "display_data"
    }
   ],
   "source": [
    "dfos = df[~df['area_classification'].isnull()]\n",
    "\n",
    "colors = sns.color_palette('pastel')[0:5]\n",
    "datapie =  dfos['area_classification'].value_counts()\n",
    "labels =  dfos['area_classification'].unique()\n",
    "plt.pie(datapie, labels = labels, colors = colors, autopct='%.0f%%')\n",
    "plt.show()"
   ]
  },
  {
   "cell_type": "markdown",
   "id": "01ce4d90",
   "metadata": {},
   "source": [
    "Consumers living in rural, large town and big 7 areas convert more using the app than with the website."
   ]
  },
  {
   "cell_type": "code",
   "execution_count": 26,
   "id": "6d2cf116",
   "metadata": {},
   "outputs": [
    {
     "data": {
      "image/png": "[encoded data removed]",
      "text/plain": [
       "<Figure size 720x432 with 2 Axes>"
      ]
     },
     "metadata": {
      "needs_background": "light"
     },
     "output_type": "display_data"
    }
   ],
   "source": [
    "dfhm = dfos.groupby(['area_classification','buying_platform'])['converted'].sum().reset_index()\n",
    "dfhm.columns = ['Area','Platform','Conversions']\n",
    "dfhm['Percentage'] = (dfhm['Conversions'] / dfhm['Conversions'].sum())*100\n",
    "\n",
    "\n",
    "plt.figure(figsize=(10, 6))\n",
    "hm = dfhm.pivot_table(index='Area', columns='Platform',values='Percentage')\n",
    "\n",
    "sns.heatmap( \n",
    "    hm, \n",
    "    cmap='YlGnBu',\n",
    "    linecolor='white', \n",
    "    linewidth=1 \n",
    ")\n",
    "\n",
    "plt.title('Conversions by Area and Platform')\n",
    "plt.show() # Show "
   ]
  },
  {
   "cell_type": "markdown",
   "id": "89284fc4",
   "metadata": {},
   "source": [
    "The youngest customer is 18 years old and the oldest one has 91. There is an error in line 2634 (the age is 2013), so we will remove this record from our dataset.\n",
    "In the plot below, we can see that the graph is skewed to the left that means that the majority of the customers are young people, that is, customers between ages 25 - 37 are more intereted in buying insurance with getsafe."
   ]
  },
  {
   "cell_type": "code",
   "execution_count": 27,
   "id": "f3cb8f02",
   "metadata": {},
   "outputs": [
    {
     "data": {
      "text/plain": [
       "count    6000.000000\n",
       "mean       32.721833\n",
       "std        27.635606\n",
       "min        18.000000\n",
       "25%        25.000000\n",
       "50%        30.000000\n",
       "75%        37.000000\n",
       "max      2013.000000\n",
       "Name: age, dtype: float64"
      ]
     },
     "execution_count": 27,
     "metadata": {},
     "output_type": "execute_result"
    }
   ],
   "source": [
    "df.age.describe()"
   ]
  },
  {
   "cell_type": "code",
   "execution_count": 29,
   "id": "12a4e0a7",
   "metadata": {},
   "outputs": [
    {
     "data": {
      "text/html": [
       "<div>\n",
       "<style scoped>\n",
       "    .dataframe tbody tr th:only-of-type {\n",
       "        vertical-align: middle;\n",
       "    }\n",
       "\n",
       "    .dataframe tbody tr th {\n",
       "        vertical-align: top;\n",
       "    }\n",
       "\n",
       "    .dataframe thead th {\n",
       "        text-align: right;\n",
       "    }\n",
       "</style>\n",
       "<table border=\"1\" class=\"dataframe\">\n",
       "  <thead>\n",
       "    <tr style=\"text-align: right;\">\n",
       "      <th></th>\n",
       "      <th>age</th>\n",
       "      <th>joined_getsafe_at</th>\n",
       "      <th>language</th>\n",
       "      <th>channel</th>\n",
       "      <th>first_product</th>\n",
       "      <th>zip_bucket</th>\n",
       "      <th>area_classification</th>\n",
       "      <th>most_used_os</th>\n",
       "      <th>buying_platform</th>\n",
       "      <th>converted</th>\n",
       "      <th>Year</th>\n",
       "      <th>Month</th>\n",
       "      <th>Hour</th>\n",
       "      <th>DayNumber</th>\n",
       "      <th>Day</th>\n",
       "    </tr>\n",
       "  </thead>\n",
       "  <tbody>\n",
       "    <tr>\n",
       "      <th>1295</th>\n",
       "      <td>89</td>\n",
       "      <td>2020-09-16 09:58:06</td>\n",
       "      <td>de</td>\n",
       "      <td>aggregator</td>\n",
       "      <td>contents</td>\n",
       "      <td>125xx</td>\n",
       "      <td>rural</td>\n",
       "      <td>NaN</td>\n",
       "      <td>NaN</td>\n",
       "      <td>1</td>\n",
       "      <td>2020</td>\n",
       "      <td>9</td>\n",
       "      <td>9</td>\n",
       "      <td>2</td>\n",
       "      <td>Wednesday</td>\n",
       "    </tr>\n",
       "    <tr>\n",
       "      <th>1859</th>\n",
       "      <td>87</td>\n",
       "      <td>2020-10-21 11:57:35</td>\n",
       "      <td>de</td>\n",
       "      <td>aggregator</td>\n",
       "      <td>contents</td>\n",
       "      <td>152xx</td>\n",
       "      <td>town</td>\n",
       "      <td>NaN</td>\n",
       "      <td>NaN</td>\n",
       "      <td>0</td>\n",
       "      <td>2020</td>\n",
       "      <td>10</td>\n",
       "      <td>11</td>\n",
       "      <td>2</td>\n",
       "      <td>Wednesday</td>\n",
       "    </tr>\n",
       "    <tr>\n",
       "      <th>2325</th>\n",
       "      <td>91</td>\n",
       "      <td>2020-06-01 12:37:00</td>\n",
       "      <td>de</td>\n",
       "      <td>affiliate</td>\n",
       "      <td>liability</td>\n",
       "      <td>508xx</td>\n",
       "      <td>Big 7</td>\n",
       "      <td>Android</td>\n",
       "      <td>web</td>\n",
       "      <td>0</td>\n",
       "      <td>2020</td>\n",
       "      <td>6</td>\n",
       "      <td>12</td>\n",
       "      <td>0</td>\n",
       "      <td>Monday</td>\n",
       "    </tr>\n",
       "    <tr>\n",
       "      <th>2380</th>\n",
       "      <td>85</td>\n",
       "      <td>2020-07-03 20:24:08</td>\n",
       "      <td>de</td>\n",
       "      <td>aggregator</td>\n",
       "      <td>dog</td>\n",
       "      <td>131xx</td>\n",
       "      <td>Big 7</td>\n",
       "      <td>Android</td>\n",
       "      <td>NaN</td>\n",
       "      <td>0</td>\n",
       "      <td>2020</td>\n",
       "      <td>7</td>\n",
       "      <td>20</td>\n",
       "      <td>4</td>\n",
       "      <td>Friday</td>\n",
       "    </tr>\n",
       "    <tr>\n",
       "      <th>2634</th>\n",
       "      <td>2013</td>\n",
       "      <td>2020-02-26 14:36:36</td>\n",
       "      <td>en</td>\n",
       "      <td>paid_social</td>\n",
       "      <td>contents</td>\n",
       "      <td>891xx</td>\n",
       "      <td>rural</td>\n",
       "      <td>Android</td>\n",
       "      <td>NaN</td>\n",
       "      <td>0</td>\n",
       "      <td>2020</td>\n",
       "      <td>2</td>\n",
       "      <td>14</td>\n",
       "      <td>2</td>\n",
       "      <td>Wednesday</td>\n",
       "    </tr>\n",
       "    <tr>\n",
       "      <th>3690</th>\n",
       "      <td>82</td>\n",
       "      <td>2020-08-16 10:42:04</td>\n",
       "      <td>de</td>\n",
       "      <td>aggregator</td>\n",
       "      <td>contents</td>\n",
       "      <td>426xx</td>\n",
       "      <td>large town</td>\n",
       "      <td>iOS</td>\n",
       "      <td>NaN</td>\n",
       "      <td>0</td>\n",
       "      <td>2020</td>\n",
       "      <td>8</td>\n",
       "      <td>10</td>\n",
       "      <td>6</td>\n",
       "      <td>Sunday</td>\n",
       "    </tr>\n",
       "    <tr>\n",
       "      <th>4274</th>\n",
       "      <td>85</td>\n",
       "      <td>2020-09-22 09:22:01</td>\n",
       "      <td>de</td>\n",
       "      <td>aggregator</td>\n",
       "      <td>contents</td>\n",
       "      <td>249xx</td>\n",
       "      <td>town</td>\n",
       "      <td>NaN</td>\n",
       "      <td>NaN</td>\n",
       "      <td>1</td>\n",
       "      <td>2020</td>\n",
       "      <td>9</td>\n",
       "      <td>9</td>\n",
       "      <td>1</td>\n",
       "      <td>Tuesday</td>\n",
       "    </tr>\n",
       "    <tr>\n",
       "      <th>5671</th>\n",
       "      <td>83</td>\n",
       "      <td>2020-08-12 12:47:17</td>\n",
       "      <td>de</td>\n",
       "      <td>aggregator</td>\n",
       "      <td>contents</td>\n",
       "      <td>635xx</td>\n",
       "      <td>rural</td>\n",
       "      <td>NaN</td>\n",
       "      <td>NaN</td>\n",
       "      <td>0</td>\n",
       "      <td>2020</td>\n",
       "      <td>8</td>\n",
       "      <td>12</td>\n",
       "      <td>2</td>\n",
       "      <td>Wednesday</td>\n",
       "    </tr>\n",
       "    <tr>\n",
       "      <th>5794</th>\n",
       "      <td>83</td>\n",
       "      <td>2020-01-15 08:43:20</td>\n",
       "      <td>de</td>\n",
       "      <td>affiliate_deal</td>\n",
       "      <td>travel</td>\n",
       "      <td>765xx</td>\n",
       "      <td>NaN</td>\n",
       "      <td>Android</td>\n",
       "      <td>NaN</td>\n",
       "      <td>0</td>\n",
       "      <td>2020</td>\n",
       "      <td>1</td>\n",
       "      <td>8</td>\n",
       "      <td>2</td>\n",
       "      <td>Wednesday</td>\n",
       "    </tr>\n",
       "  </tbody>\n",
       "</table>\n",
       "</div>"
      ],
      "text/plain": [
       "       age   joined_getsafe_at language         channel first_product  \\\n",
       "1295    89 2020-09-16 09:58:06       de      aggregator      contents   \n",
       "1859    87 2020-10-21 11:57:35       de      aggregator      contents   \n",
       "2325    91 2020-06-01 12:37:00       de       affiliate     liability   \n",
       "2380    85 2020-07-03 20:24:08       de      aggregator           dog   \n",
       "2634  2013 2020-02-26 14:36:36       en     paid_social      contents   \n",
       "3690    82 2020-08-16 10:42:04       de      aggregator      contents   \n",
       "4274    85 2020-09-22 09:22:01       de      aggregator      contents   \n",
       "5671    83 2020-08-12 12:47:17       de      aggregator      contents   \n",
       "5794    83 2020-01-15 08:43:20       de  affiliate_deal        travel   \n",
       "\n",
       "     zip_bucket area_classification most_used_os buying_platform  converted  \\\n",
       "1295      125xx               rural          NaN             NaN          1   \n",
       "1859      152xx                town          NaN             NaN          0   \n",
       "2325      508xx               Big 7      Android             web          0   \n",
       "2380      131xx               Big 7      Android             NaN          0   \n",
       "2634      891xx               rural      Android             NaN          0   \n",
       "3690      426xx          large town          iOS             NaN          0   \n",
       "4274      249xx                town          NaN             NaN          1   \n",
       "5671      635xx               rural          NaN             NaN          0   \n",
       "5794      765xx                 NaN      Android             NaN          0   \n",
       "\n",
       "      Year  Month  Hour  DayNumber        Day  \n",
       "1295  2020      9     9          2  Wednesday  \n",
       "1859  2020     10    11          2  Wednesday  \n",
       "2325  2020      6    12          0     Monday  \n",
       "2380  2020      7    20          4     Friday  \n",
       "2634  2020      2    14          2  Wednesday  \n",
       "3690  2020      8    10          6     Sunday  \n",
       "4274  2020      9     9          1    Tuesday  \n",
       "5671  2020      8    12          2  Wednesday  \n",
       "5794  2020      1     8          2  Wednesday  "
      ]
     },
     "execution_count": 29,
     "metadata": {},
     "output_type": "execute_result"
    }
   ],
   "source": [
    "df[df['age'] > 80]"
   ]
  },
  {
   "cell_type": "code",
   "execution_count": 30,
   "id": "9b82cdec",
   "metadata": {},
   "outputs": [
    {
     "data": {
      "text/html": [
       "<div>\n",
       "<style scoped>\n",
       "    .dataframe tbody tr th:only-of-type {\n",
       "        vertical-align: middle;\n",
       "    }\n",
       "\n",
       "    .dataframe tbody tr th {\n",
       "        vertical-align: top;\n",
       "    }\n",
       "\n",
       "    .dataframe thead th {\n",
       "        text-align: right;\n",
       "    }\n",
       "</style>\n",
       "<table border=\"1\" class=\"dataframe\">\n",
       "  <thead>\n",
       "    <tr style=\"text-align: right;\">\n",
       "      <th></th>\n",
       "      <th>age</th>\n",
       "      <th>joined_getsafe_at</th>\n",
       "      <th>language</th>\n",
       "      <th>channel</th>\n",
       "      <th>first_product</th>\n",
       "      <th>zip_bucket</th>\n",
       "      <th>area_classification</th>\n",
       "      <th>most_used_os</th>\n",
       "      <th>buying_platform</th>\n",
       "      <th>converted</th>\n",
       "      <th>Year</th>\n",
       "      <th>Month</th>\n",
       "      <th>Hour</th>\n",
       "      <th>DayNumber</th>\n",
       "      <th>Day</th>\n",
       "    </tr>\n",
       "  </thead>\n",
       "  <tbody>\n",
       "    <tr>\n",
       "      <th>0</th>\n",
       "      <td>51</td>\n",
       "      <td>2020-04-21 18:19:07</td>\n",
       "      <td>de</td>\n",
       "      <td>paid_social</td>\n",
       "      <td>legal</td>\n",
       "      <td>539xx</td>\n",
       "      <td>rural</td>\n",
       "      <td>Android</td>\n",
       "      <td>web</td>\n",
       "      <td>1</td>\n",
       "      <td>2020</td>\n",
       "      <td>4</td>\n",
       "      <td>18</td>\n",
       "      <td>1</td>\n",
       "      <td>Tuesday</td>\n",
       "    </tr>\n",
       "    <tr>\n",
       "      <th>1</th>\n",
       "      <td>18</td>\n",
       "      <td>2020-08-09 20:14:37</td>\n",
       "      <td>de</td>\n",
       "      <td>direct</td>\n",
       "      <td>liability</td>\n",
       "      <td>305xx</td>\n",
       "      <td>urban</td>\n",
       "      <td>Android</td>\n",
       "      <td>app</td>\n",
       "      <td>1</td>\n",
       "      <td>2020</td>\n",
       "      <td>8</td>\n",
       "      <td>20</td>\n",
       "      <td>6</td>\n",
       "      <td>Sunday</td>\n",
       "    </tr>\n",
       "    <tr>\n",
       "      <th>2</th>\n",
       "      <td>20</td>\n",
       "      <td>2020-08-03 00:51:27</td>\n",
       "      <td>de</td>\n",
       "      <td>aggregator</td>\n",
       "      <td>liability</td>\n",
       "      <td>882xx</td>\n",
       "      <td>rural</td>\n",
       "      <td>Android</td>\n",
       "      <td>app</td>\n",
       "      <td>1</td>\n",
       "      <td>2020</td>\n",
       "      <td>8</td>\n",
       "      <td>0</td>\n",
       "      <td>0</td>\n",
       "      <td>Monday</td>\n",
       "    </tr>\n",
       "  </tbody>\n",
       "</table>\n",
       "</div>"
      ],
      "text/plain": [
       "   age   joined_getsafe_at language      channel first_product zip_bucket  \\\n",
       "0   51 2020-04-21 18:19:07       de  paid_social         legal      539xx   \n",
       "1   18 2020-08-09 20:14:37       de       direct     liability      305xx   \n",
       "2   20 2020-08-03 00:51:27       de   aggregator     liability      882xx   \n",
       "\n",
       "  area_classification most_used_os buying_platform  converted  Year  Month  \\\n",
       "0               rural      Android             web          1  2020      4   \n",
       "1               urban      Android             app          1  2020      8   \n",
       "2               rural      Android             app          1  2020      8   \n",
       "\n",
       "   Hour  DayNumber      Day  \n",
       "0    18          1  Tuesday  \n",
       "1    20          6   Sunday  \n",
       "2     0          0   Monday  "
      ]
     },
     "execution_count": 30,
     "metadata": {},
     "output_type": "execute_result"
    }
   ],
   "source": [
    "df = df[df['age'] < 100].reset_index(drop = True)\n",
    "df.head(3)"
   ]
  },
  {
   "cell_type": "code",
   "execution_count": 31,
   "id": "d233c1be",
   "metadata": {},
   "outputs": [
    {
     "data": {
      "text/plain": [
       "Text(0, 0.5, 'Age Distribution')"
      ]
     },
     "execution_count": 31,
     "metadata": {},
     "output_type": "execute_result"
    },
    {
     "data": {
      "image/png": "[encoded data removed]",
      "text/plain": [
       "<Figure size 1008x360 with 1 Axes>"
      ]
     },
     "metadata": {
      "needs_background": "light"
     },
     "output_type": "display_data"
    }
   ],
   "source": [
    "a = df.groupby('age')['converted'].count().reset_index()\n",
    "plt.figure(figsize=(14,5))\n",
    "ax = sns.barplot(x=a['age'],y = a['converted'], palette = 'GnBu_d')\n",
    "plt.xlabel('Consumer Age',fontsize = 12)\n",
    "plt.ylabel('Age Distribution',fontsize = 12)"
   ]
  },
  {
   "cell_type": "markdown",
   "id": "ef8d00d3",
   "metadata": {},
   "source": [
    "There are 652 unique zip codes and it's very expensive to create dummy variables for each one. What we will do is to create groups depending on the sequence of the first digits."
   ]
  },
  {
   "cell_type": "code",
   "execution_count": 32,
   "id": "a9880c34",
   "metadata": {},
   "outputs": [
    {
     "data": {
      "text/plain": [
       "array(['010xx', '011xx', '012xx', '013xx', '014xx', '015xx', '016xx',\n",
       "       '017xx', '018xx', '019xx'], dtype=object)"
      ]
     },
     "execution_count": 32,
     "metadata": {},
     "output_type": "execute_result"
    }
   ],
   "source": [
    "np.unique(df.zip_bucket)[0:10]"
   ]
  },
  {
   "cell_type": "code",
   "execution_count": 33,
   "id": "fbb77222",
   "metadata": {},
   "outputs": [
    {
     "data": {
      "text/plain": [
       "652"
      ]
     },
     "execution_count": 33,
     "metadata": {},
     "output_type": "execute_result"
    }
   ],
   "source": [
    "len(np.unique(df.zip_bucket))"
   ]
  },
  {
   "cell_type": "code",
   "execution_count": 34,
   "id": "ca828cb8",
   "metadata": {},
   "outputs": [],
   "source": [
    "def zip_group_bucket(x):\n",
    "    x = x.replace('xx','')\n",
    "    x = int(x)\n",
    "    if x < 100:\n",
    "        zipcode = 0\n",
    "    elif x >= 100 and x < 200:\n",
    "        zipcode = 1\n",
    "    elif x >= 200 and x < 300:\n",
    "        zipcode = 2\n",
    "    elif x >= 300 and x < 400:\n",
    "        zipcode = 3\n",
    "    elif x >= 400 and x < 500:\n",
    "        zipcode = 4\n",
    "    elif x >= 500 and x < 600:\n",
    "        zipcode = 5\n",
    "    elif x >= 600 and x < 700:\n",
    "        zipcode = 6\n",
    "    elif x >= 700 and x < 800:\n",
    "        zipcode = 7\n",
    "    elif x >= 800 and x < 800:\n",
    "        zipcode = 8\n",
    "    else:\n",
    "        zipcode = 9\n",
    "    return zipcode        "
   ]
  },
  {
   "cell_type": "code",
   "execution_count": 35,
   "id": "524301ac",
   "metadata": {},
   "outputs": [],
   "source": [
    "df['zip_bucket_group'] = df['zip_bucket'].apply(lambda x: zip_group_bucket(x))"
   ]
  },
  {
   "cell_type": "markdown",
   "id": "28f2c2e4",
   "metadata": {},
   "source": [
    "Zip code group 1 and 9 have more consumers"
   ]
  },
  {
   "cell_type": "code",
   "execution_count": 36,
   "id": "e200331e",
   "metadata": {},
   "outputs": [
    {
     "data": {
      "text/plain": [
       "Text(0, 0.5, 'Number of customers')"
      ]
     },
     "execution_count": 36,
     "metadata": {},
     "output_type": "execute_result"
    },
    {
     "data": {
      "image/png": "[encoded data removed]",
      "text/plain": [
       "<Figure size 1008x360 with 1 Axes>"
      ]
     },
     "metadata": {
      "needs_background": "light"
     },
     "output_type": "display_data"
    }
   ],
   "source": [
    "zc = df.groupby('zip_bucket_group')['zip_bucket'].count().reset_index()\n",
    "plt.figure(figsize=(14,5))\n",
    "ax = sns.barplot(x=zc['zip_bucket_group'],y = zc['zip_bucket'], palette = 'GnBu_d')\n",
    "plt.xlabel('zip group',fontsize = 12)\n",
    "plt.ylabel('Number of customers',fontsize = 12)"
   ]
  },
  {
   "cell_type": "markdown",
   "id": "b079237b",
   "metadata": {},
   "source": [
    "Let's check if there is a correlation between the zip codes and the insurance products"
   ]
  },
  {
   "cell_type": "code",
   "execution_count": 37,
   "id": "d2e16d8c",
   "metadata": {},
   "outputs": [
    {
     "data": {
      "image/png": "[encoded data removed]",
      "text/plain": [
       "<Figure size 720x432 with 2 Axes>"
      ]
     },
     "metadata": {
      "needs_background": "light"
     },
     "output_type": "display_data"
    }
   ],
   "source": [
    "dfzc = df.groupby(['zip_bucket_group','first_product'])['converted'].sum().reset_index()\n",
    "dfzc.columns = ['Zip Code Group','Product','Conversions']\n",
    "\n",
    "plt.figure(figsize=(10, 6))\n",
    "hm = dfzc.pivot_table(index='Zip Code Group', columns='Product',values='Conversions')\n",
    "\n",
    "sns.heatmap( \n",
    "    hm, \n",
    "    cmap='YlGnBu',\n",
    "    linecolor='white', \n",
    "    linewidth=1 \n",
    ")\n",
    "\n",
    "plt.title('Conversions by ZipCode/Product')\n",
    "plt.show() # Show "
   ]
  },
  {
   "cell_type": "code",
   "execution_count": 38,
   "id": "2ae006de",
   "metadata": {},
   "outputs": [
    {
     "data": {
      "image/png": "[encoded data removed]",
      "text/plain": [
       "<Figure size 720x432 with 2 Axes>"
      ]
     },
     "metadata": {
      "needs_background": "light"
     },
     "output_type": "display_data"
    }
   ],
   "source": [
    "dfzc = df.groupby(['zip_bucket_group','channel'])['converted'].sum().reset_index()\n",
    "dfzc.columns = ['Zip Code Group','Channel','Conversions']\n",
    "\n",
    "plt.figure(figsize=(10, 6))\n",
    "hm = dfzc.pivot_table(index='Zip Code Group', columns='Channel',values='Conversions')\n",
    "\n",
    "sns.heatmap( \n",
    "    hm, \n",
    "    cmap='YlGnBu',\n",
    "    linecolor='white', \n",
    "    linewidth=1 \n",
    ")\n",
    "\n",
    "plt.title('Conversions by ZipCode/Channel')\n",
    "plt.show() # Show "
   ]
  },
  {
   "cell_type": "code",
   "execution_count": 39,
   "id": "5d8a1f87",
   "metadata": {},
   "outputs": [
    {
     "data": {
      "image/png": "[encoded data removed]",
      "text/plain": [
       "<Figure size 720x432 with 2 Axes>"
      ]
     },
     "metadata": {
      "needs_background": "light"
     },
     "output_type": "display_data"
    }
   ],
   "source": [
    "dfzc = df.groupby(['zip_bucket_group','buying_platform'])['converted'].sum().reset_index()\n",
    "dfzc.columns = ['Zip Code Group','Platform','Conversions']\n",
    "\n",
    "plt.figure(figsize=(10, 6))\n",
    "hm = dfzc.pivot_table(index='Zip Code Group', columns='Platform',values='Conversions')\n",
    "\n",
    "sns.heatmap( \n",
    "    hm, \n",
    "    cmap='YlGnBu',\n",
    "    linecolor='white', \n",
    "    linewidth=1 \n",
    ")\n",
    "\n",
    "plt.title('Conversions by ZipCode/Platform')\n",
    "plt.show() # Show "
   ]
  },
  {
   "cell_type": "markdown",
   "id": "990ddffc",
   "metadata": {},
   "source": [
    "The two most popular insurance products are contents and liability. Also aggregator is driving more conversions followed by direct. Both web and app are very popular en zip code group 9. In groups 2 to 7 app is more popular"
   ]
  },
  {
   "cell_type": "code",
   "execution_count": 40,
   "id": "c8d56bed",
   "metadata": {},
   "outputs": [
    {
     "data": {
      "image/png": "[encoded data removed]",
      "text/plain": [
       "<Figure size 720x432 with 2 Axes>"
      ]
     },
     "metadata": {
      "needs_background": "light"
     },
     "output_type": "display_data"
    }
   ],
   "source": [
    "dfzc = df.groupby(['zip_bucket_group','age'])['converted'].count().reset_index()\n",
    "dfzc.columns = ['Zip Code Group','age','Conversions']\n",
    "\n",
    "plt.figure(figsize=(10, 6))\n",
    "hm = dfzc.pivot_table(index='Zip Code Group', columns='age',values='Conversions')\n",
    "\n",
    "sns.heatmap( \n",
    "    hm, \n",
    "    cmap='YlGnBu',\n",
    "    linecolor='white', \n",
    "    linewidth=1 \n",
    ")\n",
    "\n",
    "plt.title('Conversions by ZipCode/Age')\n",
    "plt.show() # Show "
   ]
  },
  {
   "cell_type": "markdown",
   "id": "98a5eec9",
   "metadata": {},
   "source": [
    "In the heatmap above, we can see the distribution of consumer age by region. In region 1, we can see customers between ages 225 to 36. In region 9, we have a younger population from age 22 to 32.\n",
    "Regions 2, 3, 4 and 5 are skewed to the left meaning that customers are less than 30 years old. "
   ]
  },
  {
   "cell_type": "code",
   "execution_count": 42,
   "id": "aedb3db5",
   "metadata": {
    "scrolled": true
   },
   "outputs": [
    {
     "data": {
      "text/html": [
       "<div>\n",
       "<style scoped>\n",
       "    .dataframe tbody tr th:only-of-type {\n",
       "        vertical-align: middle;\n",
       "    }\n",
       "\n",
       "    .dataframe tbody tr th {\n",
       "        vertical-align: top;\n",
       "    }\n",
       "\n",
       "    .dataframe thead th {\n",
       "        text-align: right;\n",
       "    }\n",
       "</style>\n",
       "<table border=\"1\" class=\"dataframe\">\n",
       "  <thead>\n",
       "    <tr style=\"text-align: right;\">\n",
       "      <th></th>\n",
       "      <th>age</th>\n",
       "      <th>joined_getsafe_at</th>\n",
       "      <th>language</th>\n",
       "      <th>channel</th>\n",
       "      <th>first_product</th>\n",
       "      <th>zip_bucket</th>\n",
       "      <th>area_classification</th>\n",
       "      <th>most_used_os</th>\n",
       "      <th>buying_platform</th>\n",
       "      <th>converted</th>\n",
       "      <th>Year</th>\n",
       "      <th>Month</th>\n",
       "      <th>Hour</th>\n",
       "      <th>DayNumber</th>\n",
       "      <th>Day</th>\n",
       "      <th>zip_bucket_group</th>\n",
       "    </tr>\n",
       "  </thead>\n",
       "  <tbody>\n",
       "    <tr>\n",
       "      <th>3</th>\n",
       "      <td>18</td>\n",
       "      <td>2020-10-24 13:07:40</td>\n",
       "      <td>de</td>\n",
       "      <td>aggregator</td>\n",
       "      <td>liability</td>\n",
       "      <td>986xx</td>\n",
       "      <td>rural</td>\n",
       "      <td>NaN</td>\n",
       "      <td>NaN</td>\n",
       "      <td>1</td>\n",
       "      <td>2020</td>\n",
       "      <td>10</td>\n",
       "      <td>13</td>\n",
       "      <td>5</td>\n",
       "      <td>Saturday</td>\n",
       "      <td>9</td>\n",
       "    </tr>\n",
       "    <tr>\n",
       "      <th>10</th>\n",
       "      <td>24</td>\n",
       "      <td>2020-09-29 21:32:12</td>\n",
       "      <td>de</td>\n",
       "      <td>aggregator</td>\n",
       "      <td>contents</td>\n",
       "      <td>249xx</td>\n",
       "      <td>rural</td>\n",
       "      <td>Android</td>\n",
       "      <td>NaN</td>\n",
       "      <td>1</td>\n",
       "      <td>2020</td>\n",
       "      <td>9</td>\n",
       "      <td>21</td>\n",
       "      <td>1</td>\n",
       "      <td>Tuesday</td>\n",
       "      <td>2</td>\n",
       "    </tr>\n",
       "    <tr>\n",
       "      <th>13</th>\n",
       "      <td>32</td>\n",
       "      <td>2020-05-21 10:24:06</td>\n",
       "      <td>de</td>\n",
       "      <td>aggregator</td>\n",
       "      <td>liability</td>\n",
       "      <td>165xx</td>\n",
       "      <td>rural</td>\n",
       "      <td>iOS</td>\n",
       "      <td>NaN</td>\n",
       "      <td>1</td>\n",
       "      <td>2020</td>\n",
       "      <td>5</td>\n",
       "      <td>10</td>\n",
       "      <td>3</td>\n",
       "      <td>Thursday</td>\n",
       "      <td>1</td>\n",
       "    </tr>\n",
       "    <tr>\n",
       "      <th>14</th>\n",
       "      <td>34</td>\n",
       "      <td>2020-03-19 11:30:28</td>\n",
       "      <td>de</td>\n",
       "      <td>aggregator</td>\n",
       "      <td>contents</td>\n",
       "      <td>922xx</td>\n",
       "      <td>rural</td>\n",
       "      <td>Android</td>\n",
       "      <td>NaN</td>\n",
       "      <td>1</td>\n",
       "      <td>2020</td>\n",
       "      <td>3</td>\n",
       "      <td>11</td>\n",
       "      <td>3</td>\n",
       "      <td>Thursday</td>\n",
       "      <td>9</td>\n",
       "    </tr>\n",
       "    <tr>\n",
       "      <th>19</th>\n",
       "      <td>20</td>\n",
       "      <td>2020-08-07 11:34:23</td>\n",
       "      <td>de</td>\n",
       "      <td>aggregator</td>\n",
       "      <td>liability</td>\n",
       "      <td>317xx</td>\n",
       "      <td>town</td>\n",
       "      <td>iOS</td>\n",
       "      <td>NaN</td>\n",
       "      <td>1</td>\n",
       "      <td>2020</td>\n",
       "      <td>8</td>\n",
       "      <td>11</td>\n",
       "      <td>4</td>\n",
       "      <td>Friday</td>\n",
       "      <td>3</td>\n",
       "    </tr>\n",
       "  </tbody>\n",
       "</table>\n",
       "</div>"
      ],
      "text/plain": [
       "    age   joined_getsafe_at language     channel first_product zip_bucket  \\\n",
       "3    18 2020-10-24 13:07:40       de  aggregator     liability      986xx   \n",
       "10   24 2020-09-29 21:32:12       de  aggregator      contents      249xx   \n",
       "13   32 2020-05-21 10:24:06       de  aggregator     liability      165xx   \n",
       "14   34 2020-03-19 11:30:28       de  aggregator      contents      922xx   \n",
       "19   20 2020-08-07 11:34:23       de  aggregator     liability      317xx   \n",
       "\n",
       "   area_classification most_used_os buying_platform  converted  Year  Month  \\\n",
       "3                rural          NaN             NaN          1  2020     10   \n",
       "10               rural      Android             NaN          1  2020      9   \n",
       "13               rural          iOS             NaN          1  2020      5   \n",
       "14               rural      Android             NaN          1  2020      3   \n",
       "19                town          iOS             NaN          1  2020      8   \n",
       "\n",
       "    Hour  DayNumber       Day  zip_bucket_group  \n",
       "3     13          5  Saturday                 9  \n",
       "10    21          1   Tuesday                 2  \n",
       "13    10          3  Thursday                 1  \n",
       "14    11          3  Thursday                 9  \n",
       "19    11          4    Friday                 3  "
      ]
     },
     "execution_count": 42,
     "metadata": {},
     "output_type": "execute_result"
    }
   ],
   "source": [
    "buying_missing = df[df['buying_platform'].isnull()]\n",
    "buying_missing.head()"
   ]
  },
  {
   "cell_type": "code",
   "execution_count": 43,
   "id": "95f9eb16",
   "metadata": {
    "scrolled": true
   },
   "outputs": [
    {
     "data": {
      "text/html": [
       "<div>\n",
       "<style scoped>\n",
       "    .dataframe tbody tr th:only-of-type {\n",
       "        vertical-align: middle;\n",
       "    }\n",
       "\n",
       "    .dataframe tbody tr th {\n",
       "        vertical-align: top;\n",
       "    }\n",
       "\n",
       "    .dataframe thead th {\n",
       "        text-align: right;\n",
       "    }\n",
       "</style>\n",
       "<table border=\"1\" class=\"dataframe\">\n",
       "  <thead>\n",
       "    <tr style=\"text-align: right;\">\n",
       "      <th></th>\n",
       "      <th>channel</th>\n",
       "      <th>joined_getsafe_at</th>\n",
       "    </tr>\n",
       "  </thead>\n",
       "  <tbody>\n",
       "    <tr>\n",
       "      <th>0</th>\n",
       "      <td>affiliate</td>\n",
       "      <td>106</td>\n",
       "    </tr>\n",
       "    <tr>\n",
       "      <th>1</th>\n",
       "      <td>affiliate_deal</td>\n",
       "      <td>233</td>\n",
       "    </tr>\n",
       "    <tr>\n",
       "      <th>2</th>\n",
       "      <td>aggregator</td>\n",
       "      <td>2397</td>\n",
       "    </tr>\n",
       "    <tr>\n",
       "      <th>3</th>\n",
       "      <td>direct</td>\n",
       "      <td>63</td>\n",
       "    </tr>\n",
       "    <tr>\n",
       "      <th>4</th>\n",
       "      <td>other</td>\n",
       "      <td>1</td>\n",
       "    </tr>\n",
       "    <tr>\n",
       "      <th>5</th>\n",
       "      <td>paid_search</td>\n",
       "      <td>8</td>\n",
       "    </tr>\n",
       "    <tr>\n",
       "      <th>6</th>\n",
       "      <td>paid_social</td>\n",
       "      <td>5</td>\n",
       "    </tr>\n",
       "    <tr>\n",
       "      <th>7</th>\n",
       "      <td>partner</td>\n",
       "      <td>16</td>\n",
       "    </tr>\n",
       "    <tr>\n",
       "      <th>8</th>\n",
       "      <td>podcast</td>\n",
       "      <td>1</td>\n",
       "    </tr>\n",
       "    <tr>\n",
       "      <th>9</th>\n",
       "      <td>referral</td>\n",
       "      <td>41</td>\n",
       "    </tr>\n",
       "  </tbody>\n",
       "</table>\n",
       "</div>"
      ],
      "text/plain": [
       "          channel  joined_getsafe_at\n",
       "0       affiliate                106\n",
       "1  affiliate_deal                233\n",
       "2      aggregator               2397\n",
       "3          direct                 63\n",
       "4           other                  1\n",
       "5     paid_search                  8\n",
       "6     paid_social                  5\n",
       "7         partner                 16\n",
       "8         podcast                  1\n",
       "9        referral                 41"
      ]
     },
     "execution_count": 43,
     "metadata": {},
     "output_type": "execute_result"
    }
   ],
   "source": [
    "buying_missing.groupby(['channel'])['joined_getsafe_at'].count().reset_index()"
   ]
  },
  {
   "cell_type": "markdown",
   "id": "9724933e",
   "metadata": {},
   "source": [
    "First we will create categorical labels for buying_platform and we will predict label for missing values"
   ]
  },
  {
   "cell_type": "code",
   "execution_count": 44,
   "id": "352da70d",
   "metadata": {},
   "outputs": [],
   "source": [
    "encoder = LabelEncoder()\n",
    "df['buying_platform_cat'] = encoder.fit_transform(df['buying_platform'])"
   ]
  },
  {
   "cell_type": "code",
   "execution_count": 45,
   "id": "1a76e014",
   "metadata": {},
   "outputs": [
    {
     "data": {
      "text/plain": [
       "array([0, 1, 2])"
      ]
     },
     "execution_count": 45,
     "metadata": {},
     "output_type": "execute_result"
    }
   ],
   "source": [
    "np.unique(df['buying_platform_cat'])"
   ]
  },
  {
   "cell_type": "code",
   "execution_count": 46,
   "id": "d3982868",
   "metadata": {},
   "outputs": [
    {
     "data": {
      "text/html": [
       "<div>\n",
       "<style scoped>\n",
       "    .dataframe tbody tr th:only-of-type {\n",
       "        vertical-align: middle;\n",
       "    }\n",
       "\n",
       "    .dataframe tbody tr th {\n",
       "        vertical-align: top;\n",
       "    }\n",
       "\n",
       "    .dataframe thead th {\n",
       "        text-align: right;\n",
       "    }\n",
       "</style>\n",
       "<table border=\"1\" class=\"dataframe\">\n",
       "  <thead>\n",
       "    <tr style=\"text-align: right;\">\n",
       "      <th></th>\n",
       "      <th>age</th>\n",
       "      <th>joined_getsafe_at</th>\n",
       "      <th>language</th>\n",
       "      <th>channel</th>\n",
       "      <th>first_product</th>\n",
       "      <th>zip_bucket</th>\n",
       "      <th>area_classification</th>\n",
       "      <th>most_used_os</th>\n",
       "      <th>buying_platform</th>\n",
       "      <th>converted</th>\n",
       "      <th>Year</th>\n",
       "      <th>Month</th>\n",
       "      <th>Hour</th>\n",
       "      <th>DayNumber</th>\n",
       "      <th>Day</th>\n",
       "      <th>zip_bucket_group</th>\n",
       "      <th>buying_platform_cat</th>\n",
       "    </tr>\n",
       "  </thead>\n",
       "  <tbody>\n",
       "    <tr>\n",
       "      <th>0</th>\n",
       "      <td>51</td>\n",
       "      <td>2020-04-21 18:19:07</td>\n",
       "      <td>de</td>\n",
       "      <td>paid_social</td>\n",
       "      <td>legal</td>\n",
       "      <td>539xx</td>\n",
       "      <td>rural</td>\n",
       "      <td>Android</td>\n",
       "      <td>web</td>\n",
       "      <td>1</td>\n",
       "      <td>2020</td>\n",
       "      <td>4</td>\n",
       "      <td>18</td>\n",
       "      <td>1</td>\n",
       "      <td>Tuesday</td>\n",
       "      <td>5</td>\n",
       "      <td>1</td>\n",
       "    </tr>\n",
       "    <tr>\n",
       "      <th>1</th>\n",
       "      <td>18</td>\n",
       "      <td>2020-08-09 20:14:37</td>\n",
       "      <td>de</td>\n",
       "      <td>direct</td>\n",
       "      <td>liability</td>\n",
       "      <td>305xx</td>\n",
       "      <td>urban</td>\n",
       "      <td>Android</td>\n",
       "      <td>app</td>\n",
       "      <td>1</td>\n",
       "      <td>2020</td>\n",
       "      <td>8</td>\n",
       "      <td>20</td>\n",
       "      <td>6</td>\n",
       "      <td>Sunday</td>\n",
       "      <td>3</td>\n",
       "      <td>0</td>\n",
       "    </tr>\n",
       "    <tr>\n",
       "      <th>2</th>\n",
       "      <td>20</td>\n",
       "      <td>2020-08-03 00:51:27</td>\n",
       "      <td>de</td>\n",
       "      <td>aggregator</td>\n",
       "      <td>liability</td>\n",
       "      <td>882xx</td>\n",
       "      <td>rural</td>\n",
       "      <td>Android</td>\n",
       "      <td>app</td>\n",
       "      <td>1</td>\n",
       "      <td>2020</td>\n",
       "      <td>8</td>\n",
       "      <td>0</td>\n",
       "      <td>0</td>\n",
       "      <td>Monday</td>\n",
       "      <td>9</td>\n",
       "      <td>0</td>\n",
       "    </tr>\n",
       "    <tr>\n",
       "      <th>3</th>\n",
       "      <td>18</td>\n",
       "      <td>2020-10-24 13:07:40</td>\n",
       "      <td>de</td>\n",
       "      <td>aggregator</td>\n",
       "      <td>liability</td>\n",
       "      <td>986xx</td>\n",
       "      <td>rural</td>\n",
       "      <td>NaN</td>\n",
       "      <td>NaN</td>\n",
       "      <td>1</td>\n",
       "      <td>2020</td>\n",
       "      <td>10</td>\n",
       "      <td>13</td>\n",
       "      <td>5</td>\n",
       "      <td>Saturday</td>\n",
       "      <td>9</td>\n",
       "      <td>2</td>\n",
       "    </tr>\n",
       "    <tr>\n",
       "      <th>4</th>\n",
       "      <td>28</td>\n",
       "      <td>2020-05-31 22:54:47</td>\n",
       "      <td>de</td>\n",
       "      <td>direct</td>\n",
       "      <td>liability</td>\n",
       "      <td>104xx</td>\n",
       "      <td>Big 7</td>\n",
       "      <td>Android</td>\n",
       "      <td>app</td>\n",
       "      <td>1</td>\n",
       "      <td>2020</td>\n",
       "      <td>5</td>\n",
       "      <td>22</td>\n",
       "      <td>6</td>\n",
       "      <td>Sunday</td>\n",
       "      <td>1</td>\n",
       "      <td>0</td>\n",
       "    </tr>\n",
       "  </tbody>\n",
       "</table>\n",
       "</div>"
      ],
      "text/plain": [
       "   age   joined_getsafe_at language      channel first_product zip_bucket  \\\n",
       "0   51 2020-04-21 18:19:07       de  paid_social         legal      539xx   \n",
       "1   18 2020-08-09 20:14:37       de       direct     liability      305xx   \n",
       "2   20 2020-08-03 00:51:27       de   aggregator     liability      882xx   \n",
       "3   18 2020-10-24 13:07:40       de   aggregator     liability      986xx   \n",
       "4   28 2020-05-31 22:54:47       de       direct     liability      104xx   \n",
       "\n",
       "  area_classification most_used_os buying_platform  converted  Year  Month  \\\n",
       "0               rural      Android             web          1  2020      4   \n",
       "1               urban      Android             app          1  2020      8   \n",
       "2               rural      Android             app          1  2020      8   \n",
       "3               rural          NaN             NaN          1  2020     10   \n",
       "4               Big 7      Android             app          1  2020      5   \n",
       "\n",
       "   Hour  DayNumber       Day  zip_bucket_group  buying_platform_cat  \n",
       "0    18          1   Tuesday                 5                    1  \n",
       "1    20          6    Sunday                 3                    0  \n",
       "2     0          0    Monday                 9                    0  \n",
       "3    13          5  Saturday                 9                    2  \n",
       "4    22          6    Sunday                 1                    0  "
      ]
     },
     "execution_count": 46,
     "metadata": {},
     "output_type": "execute_result"
    }
   ],
   "source": [
    "df.head(5)"
   ]
  },
  {
   "cell_type": "code",
   "execution_count": 47,
   "id": "23f8d73b",
   "metadata": {},
   "outputs": [],
   "source": [
    "train_missing = df[~df['buying_platform'].isnull()]\n",
    "test_missing = df[df['buying_platform'].isnull()]"
   ]
  },
  {
   "cell_type": "markdown",
   "id": "bbe36542",
   "metadata": {},
   "source": [
    "We remove our target variable"
   ]
  },
  {
   "cell_type": "code",
   "execution_count": 48,
   "id": "d1da1499",
   "metadata": {},
   "outputs": [],
   "source": [
    "X_train_ensemble = train_missing.drop(['Day','zip_bucket','joined_getsafe_at','Year','converted','buying_platform','buying_platform_cat'], axis = 1)\n",
    "y_train_ensemble = train_missing['buying_platform_cat']\n",
    "\n",
    "X_test_ensemble = test_missing.drop(['Day','zip_bucket','joined_getsafe_at','Year','converted','buying_platform','buying_platform_cat'], axis = 1)\n",
    "y_test_ensemble = test_missing['buying_platform_cat']"
   ]
  },
  {
   "cell_type": "code",
   "execution_count": 49,
   "id": "412850ea",
   "metadata": {},
   "outputs": [
    {
     "data": {
      "text/html": [
       "<div>\n",
       "<style scoped>\n",
       "    .dataframe tbody tr th:only-of-type {\n",
       "        vertical-align: middle;\n",
       "    }\n",
       "\n",
       "    .dataframe tbody tr th {\n",
       "        vertical-align: top;\n",
       "    }\n",
       "\n",
       "    .dataframe thead th {\n",
       "        text-align: right;\n",
       "    }\n",
       "</style>\n",
       "<table border=\"1\" class=\"dataframe\">\n",
       "  <thead>\n",
       "    <tr style=\"text-align: right;\">\n",
       "      <th></th>\n",
       "      <th>age</th>\n",
       "      <th>language</th>\n",
       "      <th>channel</th>\n",
       "      <th>first_product</th>\n",
       "      <th>area_classification</th>\n",
       "      <th>most_used_os</th>\n",
       "      <th>Month</th>\n",
       "      <th>Hour</th>\n",
       "      <th>DayNumber</th>\n",
       "      <th>zip_bucket_group</th>\n",
       "    </tr>\n",
       "  </thead>\n",
       "  <tbody>\n",
       "    <tr>\n",
       "      <th>0</th>\n",
       "      <td>51</td>\n",
       "      <td>de</td>\n",
       "      <td>paid_social</td>\n",
       "      <td>legal</td>\n",
       "      <td>rural</td>\n",
       "      <td>Android</td>\n",
       "      <td>4</td>\n",
       "      <td>18</td>\n",
       "      <td>1</td>\n",
       "      <td>5</td>\n",
       "    </tr>\n",
       "    <tr>\n",
       "      <th>1</th>\n",
       "      <td>18</td>\n",
       "      <td>de</td>\n",
       "      <td>direct</td>\n",
       "      <td>liability</td>\n",
       "      <td>urban</td>\n",
       "      <td>Android</td>\n",
       "      <td>8</td>\n",
       "      <td>20</td>\n",
       "      <td>6</td>\n",
       "      <td>3</td>\n",
       "    </tr>\n",
       "    <tr>\n",
       "      <th>2</th>\n",
       "      <td>20</td>\n",
       "      <td>de</td>\n",
       "      <td>aggregator</td>\n",
       "      <td>liability</td>\n",
       "      <td>rural</td>\n",
       "      <td>Android</td>\n",
       "      <td>8</td>\n",
       "      <td>0</td>\n",
       "      <td>0</td>\n",
       "      <td>9</td>\n",
       "    </tr>\n",
       "  </tbody>\n",
       "</table>\n",
       "</div>"
      ],
      "text/plain": [
       "   age language      channel first_product area_classification most_used_os  \\\n",
       "0   51       de  paid_social         legal               rural      Android   \n",
       "1   18       de       direct     liability               urban      Android   \n",
       "2   20       de   aggregator     liability               rural      Android   \n",
       "\n",
       "   Month  Hour  DayNumber  zip_bucket_group  \n",
       "0      4    18          1                 5  \n",
       "1      8    20          6                 3  \n",
       "2      8     0          0                 9  "
      ]
     },
     "execution_count": 49,
     "metadata": {},
     "output_type": "execute_result"
    }
   ],
   "source": [
    "X_train_ensemble.head(3)"
   ]
  },
  {
   "cell_type": "code",
   "execution_count": 50,
   "id": "c7b9dafc",
   "metadata": {},
   "outputs": [],
   "source": [
    "dummy_list = ['language','channel','first_product','area_classification','most_used_os']\n",
    "\n",
    "X_train_ensemble = pd.get_dummies(X_train_ensemble, columns=dummy_list, drop_first=True)\n",
    "X_test_ensemble = pd.get_dummies(X_test_ensemble, columns=dummy_list, drop_first=True)"
   ]
  },
  {
   "cell_type": "code",
   "execution_count": 51,
   "id": "f28e03fb",
   "metadata": {},
   "outputs": [
    {
     "data": {
      "text/html": [
       "<div>\n",
       "<style scoped>\n",
       "    .dataframe tbody tr th:only-of-type {\n",
       "        vertical-align: middle;\n",
       "    }\n",
       "\n",
       "    .dataframe tbody tr th {\n",
       "        vertical-align: top;\n",
       "    }\n",
       "\n",
       "    .dataframe thead th {\n",
       "        text-align: right;\n",
       "    }\n",
       "</style>\n",
       "<table border=\"1\" class=\"dataframe\">\n",
       "  <thead>\n",
       "    <tr style=\"text-align: right;\">\n",
       "      <th></th>\n",
       "      <th>age</th>\n",
       "      <th>Month</th>\n",
       "      <th>Hour</th>\n",
       "      <th>DayNumber</th>\n",
       "      <th>zip_bucket_group</th>\n",
       "      <th>language_en</th>\n",
       "      <th>channel_affiliate_deal</th>\n",
       "      <th>channel_aggregator</th>\n",
       "      <th>channel_direct</th>\n",
       "      <th>channel_offline</th>\n",
       "      <th>...</th>\n",
       "      <th>first_product_dental</th>\n",
       "      <th>first_product_dog</th>\n",
       "      <th>first_product_legal</th>\n",
       "      <th>first_product_liability</th>\n",
       "      <th>first_product_travel</th>\n",
       "      <th>area_classification_large town</th>\n",
       "      <th>area_classification_rural</th>\n",
       "      <th>area_classification_town</th>\n",
       "      <th>area_classification_urban</th>\n",
       "      <th>most_used_os_iOS</th>\n",
       "    </tr>\n",
       "  </thead>\n",
       "  <tbody>\n",
       "    <tr>\n",
       "      <th>0</th>\n",
       "      <td>51</td>\n",
       "      <td>4</td>\n",
       "      <td>18</td>\n",
       "      <td>1</td>\n",
       "      <td>5</td>\n",
       "      <td>0</td>\n",
       "      <td>0</td>\n",
       "      <td>0</td>\n",
       "      <td>0</td>\n",
       "      <td>0</td>\n",
       "      <td>...</td>\n",
       "      <td>0</td>\n",
       "      <td>0</td>\n",
       "      <td>1</td>\n",
       "      <td>0</td>\n",
       "      <td>0</td>\n",
       "      <td>0</td>\n",
       "      <td>1</td>\n",
       "      <td>0</td>\n",
       "      <td>0</td>\n",
       "      <td>0</td>\n",
       "    </tr>\n",
       "    <tr>\n",
       "      <th>1</th>\n",
       "      <td>18</td>\n",
       "      <td>8</td>\n",
       "      <td>20</td>\n",
       "      <td>6</td>\n",
       "      <td>3</td>\n",
       "      <td>0</td>\n",
       "      <td>0</td>\n",
       "      <td>0</td>\n",
       "      <td>1</td>\n",
       "      <td>0</td>\n",
       "      <td>...</td>\n",
       "      <td>0</td>\n",
       "      <td>0</td>\n",
       "      <td>0</td>\n",
       "      <td>1</td>\n",
       "      <td>0</td>\n",
       "      <td>0</td>\n",
       "      <td>0</td>\n",
       "      <td>0</td>\n",
       "      <td>1</td>\n",
       "      <td>0</td>\n",
       "    </tr>\n",
       "    <tr>\n",
       "      <th>2</th>\n",
       "      <td>20</td>\n",
       "      <td>8</td>\n",
       "      <td>0</td>\n",
       "      <td>0</td>\n",
       "      <td>9</td>\n",
       "      <td>0</td>\n",
       "      <td>0</td>\n",
       "      <td>1</td>\n",
       "      <td>0</td>\n",
       "      <td>0</td>\n",
       "      <td>...</td>\n",
       "      <td>0</td>\n",
       "      <td>0</td>\n",
       "      <td>0</td>\n",
       "      <td>1</td>\n",
       "      <td>0</td>\n",
       "      <td>0</td>\n",
       "      <td>1</td>\n",
       "      <td>0</td>\n",
       "      <td>0</td>\n",
       "      <td>0</td>\n",
       "    </tr>\n",
       "  </tbody>\n",
       "</table>\n",
       "<p>3 rows × 27 columns</p>\n",
       "</div>"
      ],
      "text/plain": [
       "   age  Month  Hour  DayNumber  zip_bucket_group  language_en  \\\n",
       "0   51      4    18          1                 5            0   \n",
       "1   18      8    20          6                 3            0   \n",
       "2   20      8     0          0                 9            0   \n",
       "\n",
       "   channel_affiliate_deal  channel_aggregator  channel_direct  \\\n",
       "0                       0                   0               0   \n",
       "1                       0                   0               1   \n",
       "2                       0                   1               0   \n",
       "\n",
       "   channel_offline  ...  first_product_dental  first_product_dog  \\\n",
       "0                0  ...                     0                  0   \n",
       "1                0  ...                     0                  0   \n",
       "2                0  ...                     0                  0   \n",
       "\n",
       "   first_product_legal  first_product_liability  first_product_travel  \\\n",
       "0                    1                        0                     0   \n",
       "1                    0                        1                     0   \n",
       "2                    0                        1                     0   \n",
       "\n",
       "   area_classification_large town  area_classification_rural  \\\n",
       "0                               0                          1   \n",
       "1                               0                          0   \n",
       "2                               0                          1   \n",
       "\n",
       "   area_classification_town  area_classification_urban  most_used_os_iOS  \n",
       "0                         0                          0                 0  \n",
       "1                         0                          1                 0  \n",
       "2                         0                          0                 0  \n",
       "\n",
       "[3 rows x 27 columns]"
      ]
     },
     "execution_count": 51,
     "metadata": {},
     "output_type": "execute_result"
    }
   ],
   "source": [
    "X_train_ensemble.head(3)"
   ]
  },
  {
   "cell_type": "code",
   "execution_count": 52,
   "id": "45ee62f3",
   "metadata": {},
   "outputs": [],
   "source": [
    "from sklearn.ensemble import RandomForestClassifier, GradientBoostingClassifier\n",
    "\n",
    "n_estimators = 10\n",
    "max_depth = 5\n",
    "\n",
    "random_forest = RandomForestClassifier(\n",
    "    n_estimators=n_estimators, max_depth=max_depth, random_state=10\n",
    ")\n",
    "\n",
    "random_forest.fit(X_train_ensemble, y_train_ensemble)\n",
    "\n",
    "gradient_boosting = GradientBoostingClassifier(\n",
    "    n_estimators=n_estimators, max_depth=max_depth, random_state=10\n",
    ")\n",
    "\n",
    "_ = gradient_boosting.fit(X_train_ensemble, y_train_ensemble)"
   ]
  },
  {
   "cell_type": "code",
   "execution_count": 53,
   "id": "99a82ed4",
   "metadata": {},
   "outputs": [],
   "source": [
    "predict_train = gradient_boosting.predict(X_train_ensemble)"
   ]
  },
  {
   "cell_type": "code",
   "execution_count": 54,
   "id": "34c4ff1b",
   "metadata": {},
   "outputs": [
    {
     "data": {
      "image/png": "[encoded data removed]",
      "text/plain": [
       "<Figure size 432x432 with 2 Axes>"
      ]
     },
     "metadata": {
      "needs_background": "light"
     },
     "output_type": "display_data"
    }
   ],
   "source": [
    "import matplotlib.pyplot as plt\n",
    "from sklearn.datasets import make_classification\n",
    "from sklearn.metrics import confusion_matrix\n",
    "from sklearn.model_selection import train_test_split\n",
    "from sklearn.svm import SVC\n",
    "\n",
    "class_names = np.unique(y_train_ensemble)\n",
    "target_names = pd.Series(class_names).map({0.: 'app',1.:'web'})\n",
    "\n",
    "cm = confusion_matrix(y_train_ensemble, predict_train)\n",
    "# Normalise\n",
    "cmn = cm.astype('float') / cm.sum(axis=1)[:, np.newaxis]\n",
    "fig, ax = plt.subplots(figsize=(6,6))\n",
    "sns.set(font_scale = 1.5)\n",
    "sns.heatmap(cmn, annot=True, fmt='.1f', xticklabels=target_names, yticklabels=target_names,cmap=\"Blues\")\n",
    "plt.ylabel('True label')\n",
    "plt.xlabel('Predicted label')\n",
    "plt.show(block=False)"
   ]
  },
  {
   "cell_type": "code",
   "execution_count": 55,
   "id": "0863f48f",
   "metadata": {},
   "outputs": [],
   "source": [
    "predict_test = gradient_boosting.predict(X_test_ensemble)"
   ]
  },
  {
   "cell_type": "code",
   "execution_count": 56,
   "id": "2eec42e5",
   "metadata": {},
   "outputs": [],
   "source": [
    "test_missing = test_missing.drop(['buying_platform_cat'],axis=1)"
   ]
  },
  {
   "cell_type": "code",
   "execution_count": 57,
   "id": "47a743ce",
   "metadata": {},
   "outputs": [],
   "source": [
    "test_missing = test_missing.reset_index(drop=True)\n",
    "test_missing['buying_platform_cat'] = pd.DataFrame(predict_test)"
   ]
  },
  {
   "cell_type": "code",
   "execution_count": 58,
   "id": "862d7282",
   "metadata": {},
   "outputs": [],
   "source": [
    "train_missing = train_missing.reset_index(drop=True)"
   ]
  },
  {
   "cell_type": "code",
   "execution_count": 59,
   "id": "d36e2c7a",
   "metadata": {},
   "outputs": [
    {
     "data": {
      "text/html": [
       "<div>\n",
       "<style scoped>\n",
       "    .dataframe tbody tr th:only-of-type {\n",
       "        vertical-align: middle;\n",
       "    }\n",
       "\n",
       "    .dataframe tbody tr th {\n",
       "        vertical-align: top;\n",
       "    }\n",
       "\n",
       "    .dataframe thead th {\n",
       "        text-align: right;\n",
       "    }\n",
       "</style>\n",
       "<table border=\"1\" class=\"dataframe\">\n",
       "  <thead>\n",
       "    <tr style=\"text-align: right;\">\n",
       "      <th></th>\n",
       "      <th>age</th>\n",
       "      <th>joined_getsafe_at</th>\n",
       "      <th>language</th>\n",
       "      <th>channel</th>\n",
       "      <th>first_product</th>\n",
       "      <th>zip_bucket</th>\n",
       "      <th>area_classification</th>\n",
       "      <th>most_used_os</th>\n",
       "      <th>buying_platform</th>\n",
       "      <th>converted</th>\n",
       "      <th>Year</th>\n",
       "      <th>Month</th>\n",
       "      <th>Hour</th>\n",
       "      <th>DayNumber</th>\n",
       "      <th>Day</th>\n",
       "      <th>zip_bucket_group</th>\n",
       "      <th>buying_platform_cat</th>\n",
       "    </tr>\n",
       "  </thead>\n",
       "  <tbody>\n",
       "    <tr>\n",
       "      <th>0</th>\n",
       "      <td>51</td>\n",
       "      <td>2020-04-21 18:19:07</td>\n",
       "      <td>de</td>\n",
       "      <td>paid_social</td>\n",
       "      <td>legal</td>\n",
       "      <td>539xx</td>\n",
       "      <td>rural</td>\n",
       "      <td>Android</td>\n",
       "      <td>web</td>\n",
       "      <td>1</td>\n",
       "      <td>2020</td>\n",
       "      <td>4</td>\n",
       "      <td>18</td>\n",
       "      <td>1</td>\n",
       "      <td>Tuesday</td>\n",
       "      <td>5</td>\n",
       "      <td>1</td>\n",
       "    </tr>\n",
       "    <tr>\n",
       "      <th>1</th>\n",
       "      <td>18</td>\n",
       "      <td>2020-08-09 20:14:37</td>\n",
       "      <td>de</td>\n",
       "      <td>direct</td>\n",
       "      <td>liability</td>\n",
       "      <td>305xx</td>\n",
       "      <td>urban</td>\n",
       "      <td>Android</td>\n",
       "      <td>app</td>\n",
       "      <td>1</td>\n",
       "      <td>2020</td>\n",
       "      <td>8</td>\n",
       "      <td>20</td>\n",
       "      <td>6</td>\n",
       "      <td>Sunday</td>\n",
       "      <td>3</td>\n",
       "      <td>0</td>\n",
       "    </tr>\n",
       "    <tr>\n",
       "      <th>2</th>\n",
       "      <td>20</td>\n",
       "      <td>2020-08-03 00:51:27</td>\n",
       "      <td>de</td>\n",
       "      <td>aggregator</td>\n",
       "      <td>liability</td>\n",
       "      <td>882xx</td>\n",
       "      <td>rural</td>\n",
       "      <td>Android</td>\n",
       "      <td>app</td>\n",
       "      <td>1</td>\n",
       "      <td>2020</td>\n",
       "      <td>8</td>\n",
       "      <td>0</td>\n",
       "      <td>0</td>\n",
       "      <td>Monday</td>\n",
       "      <td>9</td>\n",
       "      <td>0</td>\n",
       "    </tr>\n",
       "  </tbody>\n",
       "</table>\n",
       "</div>"
      ],
      "text/plain": [
       "   age   joined_getsafe_at language      channel first_product zip_bucket  \\\n",
       "0   51 2020-04-21 18:19:07       de  paid_social         legal      539xx   \n",
       "1   18 2020-08-09 20:14:37       de       direct     liability      305xx   \n",
       "2   20 2020-08-03 00:51:27       de   aggregator     liability      882xx   \n",
       "\n",
       "  area_classification most_used_os buying_platform  converted  Year  Month  \\\n",
       "0               rural      Android             web          1  2020      4   \n",
       "1               urban      Android             app          1  2020      8   \n",
       "2               rural      Android             app          1  2020      8   \n",
       "\n",
       "   Hour  DayNumber      Day  zip_bucket_group  buying_platform_cat  \n",
       "0    18          1  Tuesday                 5                    1  \n",
       "1    20          6   Sunday                 3                    0  \n",
       "2     0          0   Monday                 9                    0  "
      ]
     },
     "execution_count": 59,
     "metadata": {},
     "output_type": "execute_result"
    }
   ],
   "source": [
    "dfnew = train_missing.append([test_missing]).reset_index(drop=True)\n",
    "dfnew.head(3)"
   ]
  },
  {
   "cell_type": "code",
   "execution_count": 60,
   "id": "37e0d2ac",
   "metadata": {},
   "outputs": [],
   "source": [
    "dfnew['age_group'] = pd.DataFrame(pd.qcut(dfnew['age'],5,labels= False))"
   ]
  },
  {
   "cell_type": "code",
   "execution_count": 61,
   "id": "6914d529",
   "metadata": {},
   "outputs": [
    {
     "data": {
      "text/plain": [
       "Index(['age', 'joined_getsafe_at', 'language', 'channel', 'first_product',\n",
       "       'zip_bucket', 'area_classification', 'most_used_os', 'buying_platform',\n",
       "       'converted', 'Year', 'Month', 'Hour', 'DayNumber', 'Day',\n",
       "       'zip_bucket_group', 'buying_platform_cat', 'age_group'],\n",
       "      dtype='object')"
      ]
     },
     "execution_count": 61,
     "metadata": {},
     "output_type": "execute_result"
    }
   ],
   "source": [
    "dfnew.columns"
   ]
  },
  {
   "cell_type": "code",
   "execution_count": 67,
   "id": "bc8d5bae",
   "metadata": {},
   "outputs": [],
   "source": [
    "dfconverted = dfnew[['age_group', 'language', 'channel', 'first_product',\n",
    "        'area_classification', 'most_used_os',\n",
    "       'converted', 'Month', 'Hour', 'DayNumber',\n",
    "       'zip_bucket_group', 'buying_platform_cat']]"
   ]
  },
  {
   "cell_type": "code",
   "execution_count": 68,
   "id": "fc4d595a",
   "metadata": {},
   "outputs": [],
   "source": [
    "cols = ['age_group', 'language', 'channel', 'first_product',\n",
    "        'area_classification', 'most_used_os','Month', 'Hour', 'DayNumber',\n",
    "       'zip_bucket_group', 'buying_platform_cat']\n",
    "dfconverted = pd.get_dummies(dfconverted, columns=cols, drop_first=True)"
   ]
  },
  {
   "cell_type": "code",
   "execution_count": 69,
   "id": "c42e8e6b",
   "metadata": {},
   "outputs": [
    {
     "data": {
      "text/html": [
       "<div>\n",
       "<style scoped>\n",
       "    .dataframe tbody tr th:only-of-type {\n",
       "        vertical-align: middle;\n",
       "    }\n",
       "\n",
       "    .dataframe tbody tr th {\n",
       "        vertical-align: top;\n",
       "    }\n",
       "\n",
       "    .dataframe thead th {\n",
       "        text-align: right;\n",
       "    }\n",
       "</style>\n",
       "<table border=\"1\" class=\"dataframe\">\n",
       "  <thead>\n",
       "    <tr style=\"text-align: right;\">\n",
       "      <th></th>\n",
       "      <th>converted</th>\n",
       "      <th>age_group_1</th>\n",
       "      <th>age_group_2</th>\n",
       "      <th>age_group_3</th>\n",
       "      <th>age_group_4</th>\n",
       "      <th>language_en</th>\n",
       "      <th>channel_affiliate_deal</th>\n",
       "      <th>channel_aggregator</th>\n",
       "      <th>channel_direct</th>\n",
       "      <th>channel_offline</th>\n",
       "      <th>...</th>\n",
       "      <th>DayNumber_6</th>\n",
       "      <th>zip_bucket_group_1</th>\n",
       "      <th>zip_bucket_group_2</th>\n",
       "      <th>zip_bucket_group_3</th>\n",
       "      <th>zip_bucket_group_4</th>\n",
       "      <th>zip_bucket_group_5</th>\n",
       "      <th>zip_bucket_group_6</th>\n",
       "      <th>zip_bucket_group_7</th>\n",
       "      <th>zip_bucket_group_9</th>\n",
       "      <th>buying_platform_cat_1</th>\n",
       "    </tr>\n",
       "  </thead>\n",
       "  <tbody>\n",
       "    <tr>\n",
       "      <th>0</th>\n",
       "      <td>1</td>\n",
       "      <td>0</td>\n",
       "      <td>0</td>\n",
       "      <td>0</td>\n",
       "      <td>1</td>\n",
       "      <td>0</td>\n",
       "      <td>0</td>\n",
       "      <td>0</td>\n",
       "      <td>0</td>\n",
       "      <td>0</td>\n",
       "      <td>...</td>\n",
       "      <td>0</td>\n",
       "      <td>0</td>\n",
       "      <td>0</td>\n",
       "      <td>0</td>\n",
       "      <td>0</td>\n",
       "      <td>1</td>\n",
       "      <td>0</td>\n",
       "      <td>0</td>\n",
       "      <td>0</td>\n",
       "      <td>1</td>\n",
       "    </tr>\n",
       "    <tr>\n",
       "      <th>1</th>\n",
       "      <td>1</td>\n",
       "      <td>0</td>\n",
       "      <td>0</td>\n",
       "      <td>0</td>\n",
       "      <td>0</td>\n",
       "      <td>0</td>\n",
       "      <td>0</td>\n",
       "      <td>0</td>\n",
       "      <td>1</td>\n",
       "      <td>0</td>\n",
       "      <td>...</td>\n",
       "      <td>1</td>\n",
       "      <td>0</td>\n",
       "      <td>0</td>\n",
       "      <td>1</td>\n",
       "      <td>0</td>\n",
       "      <td>0</td>\n",
       "      <td>0</td>\n",
       "      <td>0</td>\n",
       "      <td>0</td>\n",
       "      <td>0</td>\n",
       "    </tr>\n",
       "    <tr>\n",
       "      <th>2</th>\n",
       "      <td>1</td>\n",
       "      <td>0</td>\n",
       "      <td>0</td>\n",
       "      <td>0</td>\n",
       "      <td>0</td>\n",
       "      <td>0</td>\n",
       "      <td>0</td>\n",
       "      <td>1</td>\n",
       "      <td>0</td>\n",
       "      <td>0</td>\n",
       "      <td>...</td>\n",
       "      <td>0</td>\n",
       "      <td>0</td>\n",
       "      <td>0</td>\n",
       "      <td>0</td>\n",
       "      <td>0</td>\n",
       "      <td>0</td>\n",
       "      <td>0</td>\n",
       "      <td>0</td>\n",
       "      <td>1</td>\n",
       "      <td>0</td>\n",
       "    </tr>\n",
       "    <tr>\n",
       "      <th>3</th>\n",
       "      <td>1</td>\n",
       "      <td>1</td>\n",
       "      <td>0</td>\n",
       "      <td>0</td>\n",
       "      <td>0</td>\n",
       "      <td>0</td>\n",
       "      <td>0</td>\n",
       "      <td>0</td>\n",
       "      <td>1</td>\n",
       "      <td>0</td>\n",
       "      <td>...</td>\n",
       "      <td>1</td>\n",
       "      <td>1</td>\n",
       "      <td>0</td>\n",
       "      <td>0</td>\n",
       "      <td>0</td>\n",
       "      <td>0</td>\n",
       "      <td>0</td>\n",
       "      <td>0</td>\n",
       "      <td>0</td>\n",
       "      <td>0</td>\n",
       "    </tr>\n",
       "    <tr>\n",
       "      <th>4</th>\n",
       "      <td>1</td>\n",
       "      <td>0</td>\n",
       "      <td>1</td>\n",
       "      <td>0</td>\n",
       "      <td>0</td>\n",
       "      <td>1</td>\n",
       "      <td>0</td>\n",
       "      <td>0</td>\n",
       "      <td>0</td>\n",
       "      <td>0</td>\n",
       "      <td>...</td>\n",
       "      <td>0</td>\n",
       "      <td>0</td>\n",
       "      <td>0</td>\n",
       "      <td>0</td>\n",
       "      <td>0</td>\n",
       "      <td>0</td>\n",
       "      <td>0</td>\n",
       "      <td>1</td>\n",
       "      <td>0</td>\n",
       "      <td>1</td>\n",
       "    </tr>\n",
       "  </tbody>\n",
       "</table>\n",
       "<p>5 rows × 76 columns</p>\n",
       "</div>"
      ],
      "text/plain": [
       "   converted  age_group_1  age_group_2  age_group_3  age_group_4  language_en  \\\n",
       "0          1            0            0            0            1            0   \n",
       "1          1            0            0            0            0            0   \n",
       "2          1            0            0            0            0            0   \n",
       "3          1            1            0            0            0            0   \n",
       "4          1            0            1            0            0            1   \n",
       "\n",
       "   channel_affiliate_deal  channel_aggregator  channel_direct  \\\n",
       "0                       0                   0               0   \n",
       "1                       0                   0               1   \n",
       "2                       0                   1               0   \n",
       "3                       0                   0               1   \n",
       "4                       0                   0               0   \n",
       "\n",
       "   channel_offline  ...  DayNumber_6  zip_bucket_group_1  zip_bucket_group_2  \\\n",
       "0                0  ...            0                   0                   0   \n",
       "1                0  ...            1                   0                   0   \n",
       "2                0  ...            0                   0                   0   \n",
       "3                0  ...            1                   1                   0   \n",
       "4                0  ...            0                   0                   0   \n",
       "\n",
       "   zip_bucket_group_3  zip_bucket_group_4  zip_bucket_group_5  \\\n",
       "0                   0                   0                   1   \n",
       "1                   1                   0                   0   \n",
       "2                   0                   0                   0   \n",
       "3                   0                   0                   0   \n",
       "4                   0                   0                   0   \n",
       "\n",
       "   zip_bucket_group_6  zip_bucket_group_7  zip_bucket_group_9  \\\n",
       "0                   0                   0                   0   \n",
       "1                   0                   0                   0   \n",
       "2                   0                   0                   1   \n",
       "3                   0                   0                   0   \n",
       "4                   0                   1                   0   \n",
       "\n",
       "   buying_platform_cat_1  \n",
       "0                      1  \n",
       "1                      0  \n",
       "2                      0  \n",
       "3                      0  \n",
       "4                      1  \n",
       "\n",
       "[5 rows x 76 columns]"
      ]
     },
     "execution_count": 69,
     "metadata": {},
     "output_type": "execute_result"
    }
   ],
   "source": [
    "dfconverted.head(5)"
   ]
  },
  {
   "cell_type": "code",
   "execution_count": 70,
   "id": "e3d63448",
   "metadata": {},
   "outputs": [],
   "source": [
    "from sklearn.model_selection import train_test_split\n",
    "from sklearn.ensemble import RandomForestRegressor\n",
    "from sklearn.metrics import accuracy_score\n",
    "\n",
    "X = dfconverted.drop(['converted'], axis = 1)\n",
    "y = dfconverted['converted']\n",
    "\n",
    "X_train, X_test, Y_train, Y_test = train_test_split(X, y, test_size = 0.2)"
   ]
  },
  {
   "cell_type": "code",
   "execution_count": 97,
   "id": "ae42f9b3",
   "metadata": {},
   "outputs": [],
   "source": [
    "# Build the model with the random forest algorithm:\n",
    "\n",
    "n_estimators = 200\n",
    "max_depth = 10\n",
    "\n",
    "random_forest = RandomForestClassifier(\n",
    "    n_estimators=n_estimators, max_depth=max_depth, random_state=10\n",
    ")\n",
    "\n",
    "random_forest.fit(X_train, Y_train)\n",
    "\n",
    "gradient_boosting = GradientBoostingClassifier(\n",
    "    n_estimators=n_estimators, max_depth=max_depth, random_state=10\n",
    ")\n",
    "\n",
    "_ = gradient_boosting.fit(X_train, Y_train)"
   ]
  },
  {
   "cell_type": "code",
   "execution_count": 98,
   "id": "211dd249",
   "metadata": {},
   "outputs": [],
   "source": [
    "predict_train = gradient_boosting.predict(X_train)\n",
    "predict_test = gradient_boosting.predict(X_test)"
   ]
  },
  {
   "cell_type": "code",
   "execution_count": 99,
   "id": "d4420cda",
   "metadata": {},
   "outputs": [
    {
     "data": {
      "text/plain": [
       "0.9987497395290685"
      ]
     },
     "execution_count": 99,
     "metadata": {},
     "output_type": "execute_result"
    }
   ],
   "source": [
    "accuracy_score(Y_train, predict_train)"
   ]
  },
  {
   "cell_type": "code",
   "execution_count": 100,
   "id": "4ccda96c",
   "metadata": {},
   "outputs": [
    {
     "data": {
      "text/plain": [
       "0.6366666666666667"
      ]
     },
     "execution_count": 100,
     "metadata": {},
     "output_type": "execute_result"
    }
   ],
   "source": [
    "accuracy_score(Y_test, predict_test)"
   ]
  },
  {
   "cell_type": "code",
   "execution_count": 101,
   "id": "5aec643f",
   "metadata": {},
   "outputs": [
    {
     "data": {
      "image/png": "[encoded data removed]",
      "text/plain": [
       "<Figure size 576x684 with 1 Axes>"
      ]
     },
     "metadata": {},
     "output_type": "display_data"
    }
   ],
   "source": [
    "import shap \n",
    "\n",
    "shap_values = shap.TreeExplainer(gradient_boosting).shap_values(X_train)\n",
    "shap.summary_plot(shap_values, X_train, plot_type=\"bar\")"
   ]
  },
  {
   "cell_type": "code",
   "execution_count": 103,
   "id": "357c0fb3",
   "metadata": {},
   "outputs": [
    {
     "name": "stdout",
     "output_type": "stream",
     "text": [
      "Fitting 3 folds for each of 210 candidates, totalling 630 fits\n"
     ]
    },
    {
     "data": {
      "text/plain": [
       "GridSearchCV(cv=3,\n",
       "             estimator=Pipeline(steps=[('scaler', StandardScaler()),\n",
       "                                       ('clf', RandomForestClassifier())]),\n",
       "             n_jobs=-1,\n",
       "             param_grid={'clf__max_depth': [1, 5, 8, 10, 15, 20, 25],\n",
       "                         'clf__max_features': [0.1, 0.2, 0.30000000000000004,\n",
       "                                               0.4, 0.5, 0.6,\n",
       "                                               0.7000000000000001, 0.8, 0.9,\n",
       "                                               1.0],\n",
       "                         'clf__n_estimators': [100, 500, 1000]},\n",
       "             verbose=1000)"
      ]
     },
     "execution_count": 103,
     "metadata": {},
     "output_type": "execute_result"
    }
   ],
   "source": [
    "from sklearn.preprocessing import StandardScaler\n",
    "from sklearn.model_selection import train_test_split, GridSearchCV\n",
    "from sklearn.pipeline import Pipeline\n",
    "\n",
    "# Build a pipeline object\n",
    "pipe = Pipeline([\n",
    "    (\"scaler\", StandardScaler()),\n",
    "    (\"clf\", RandomForestClassifier())\n",
    "])\n",
    "\n",
    "# Declare a hyperparameter grid\n",
    "param_grid = {\n",
    "    \"clf__n_estimators\": [100, 500, 1000],\n",
    "    \"clf__max_depth\": [1, 5, 8, 10,15,20, 25],\n",
    "    \"clf__max_features\": [*np.arange(0.1, 1.1, 0.1)],\n",
    "}\n",
    "\n",
    "# Perform grid search, fit it, and print score\n",
    "gs = GridSearchCV(pipe, param_grid=param_grid, cv=3, n_jobs=-1, verbose=1000)\n",
    "gs.fit(X_train, Y_train)\n"
   ]
  },
  {
   "cell_type": "code",
   "execution_count": 104,
   "id": "41f15801",
   "metadata": {},
   "outputs": [
    {
     "data": {
      "text/plain": [
       "0.8945613669514482"
      ]
     },
     "execution_count": 104,
     "metadata": {},
     "output_type": "execute_result"
    }
   ],
   "source": [
    "predict_train = gs.predict(X_train)\n",
    "accuracy_score(Y_train, predict_train)"
   ]
  },
  {
   "cell_type": "code",
   "execution_count": 105,
   "id": "d2040fde",
   "metadata": {},
   "outputs": [
    {
     "data": {
      "text/plain": [
       "0.6441666666666667"
      ]
     },
     "execution_count": 105,
     "metadata": {},
     "output_type": "execute_result"
    }
   ],
   "source": [
    "predict_test = gs.predict(X_test)\n",
    "accuracy_score(Y_test, predict_test)"
   ]
  },
  {
   "cell_type": "code",
   "execution_count": 109,
   "id": "e7c6d4ae",
   "metadata": {},
   "outputs": [],
   "source": [
    "importances = gs.best_estimator_.named_steps[\"clf\"].feature_importances_\n",
    "indices = np.argsort(importances)"
   ]
  },
  {
   "cell_type": "code",
   "execution_count": 116,
   "id": "921025b0",
   "metadata": {},
   "outputs": [
    {
     "data": {
      "text/html": [
       "<div>\n",
       "<style scoped>\n",
       "    .dataframe tbody tr th:only-of-type {\n",
       "        vertical-align: middle;\n",
       "    }\n",
       "\n",
       "    .dataframe tbody tr th {\n",
       "        vertical-align: top;\n",
       "    }\n",
       "\n",
       "    .dataframe thead th {\n",
       "        text-align: right;\n",
       "    }\n",
       "</style>\n",
       "<table border=\"1\" class=\"dataframe\">\n",
       "  <thead>\n",
       "    <tr style=\"text-align: right;\">\n",
       "      <th></th>\n",
       "      <th>Features</th>\n",
       "      <th>Coefficient</th>\n",
       "    </tr>\n",
       "  </thead>\n",
       "  <tbody>\n",
       "    <tr>\n",
       "      <th>0</th>\n",
       "      <td>age_group_1</td>\n",
       "      <td>0.018984</td>\n",
       "    </tr>\n",
       "    <tr>\n",
       "      <th>1</th>\n",
       "      <td>age_group_2</td>\n",
       "      <td>0.017386</td>\n",
       "    </tr>\n",
       "    <tr>\n",
       "      <th>2</th>\n",
       "      <td>age_group_3</td>\n",
       "      <td>0.018588</td>\n",
       "    </tr>\n",
       "    <tr>\n",
       "      <th>3</th>\n",
       "      <td>age_group_4</td>\n",
       "      <td>0.022873</td>\n",
       "    </tr>\n",
       "    <tr>\n",
       "      <th>4</th>\n",
       "      <td>language_en</td>\n",
       "      <td>0.019407</td>\n",
       "    </tr>\n",
       "    <tr>\n",
       "      <th>...</th>\n",
       "      <td>...</td>\n",
       "      <td>...</td>\n",
       "    </tr>\n",
       "    <tr>\n",
       "      <th>70</th>\n",
       "      <td>zip_bucket_group_5</td>\n",
       "      <td>0.012815</td>\n",
       "    </tr>\n",
       "    <tr>\n",
       "      <th>71</th>\n",
       "      <td>zip_bucket_group_6</td>\n",
       "      <td>0.012747</td>\n",
       "    </tr>\n",
       "    <tr>\n",
       "      <th>72</th>\n",
       "      <td>zip_bucket_group_7</td>\n",
       "      <td>0.012939</td>\n",
       "    </tr>\n",
       "    <tr>\n",
       "      <th>73</th>\n",
       "      <td>zip_bucket_group_9</td>\n",
       "      <td>0.018213</td>\n",
       "    </tr>\n",
       "    <tr>\n",
       "      <th>74</th>\n",
       "      <td>buying_platform_cat_1</td>\n",
       "      <td>0.029099</td>\n",
       "    </tr>\n",
       "  </tbody>\n",
       "</table>\n",
       "<p>75 rows × 2 columns</p>\n",
       "</div>"
      ],
      "text/plain": [
       "                 Features  Coefficient\n",
       "0             age_group_1     0.018984\n",
       "1             age_group_2     0.017386\n",
       "2             age_group_3     0.018588\n",
       "3             age_group_4     0.022873\n",
       "4             language_en     0.019407\n",
       "..                    ...          ...\n",
       "70     zip_bucket_group_5     0.012815\n",
       "71     zip_bucket_group_6     0.012747\n",
       "72     zip_bucket_group_7     0.012939\n",
       "73     zip_bucket_group_9     0.018213\n",
       "74  buying_platform_cat_1     0.029099\n",
       "\n",
       "[75 rows x 2 columns]"
      ]
     },
     "execution_count": 116,
     "metadata": {},
     "output_type": "execute_result"
    }
   ],
   "source": [
    "feature_importance = pd.DataFrame(X_train.columns,columns = ['Features'])\n",
    "feature_importance['Coefficient']= pd.DataFrame(importances)\n",
    "feature_importance"
   ]
  },
  {
   "cell_type": "code",
   "execution_count": 122,
   "id": "08340ef8",
   "metadata": {},
   "outputs": [],
   "source": [
    "feature_importance = feature_importance.sort_values(by=['Coefficient'], ascending=False)"
   ]
  },
  {
   "cell_type": "code",
   "execution_count": 131,
   "id": "841b9a7d",
   "metadata": {},
   "outputs": [
    {
     "data": {
      "text/plain": [
       "Text(0, 0.5, 'Feature')"
      ]
     },
     "execution_count": 131,
     "metadata": {},
     "output_type": "execute_result"
    },
    {
     "data": {
      "image/png": "[encoded data removed]",
      "text/plain": [
       "<Figure size 720x1080 with 1 Axes>"
      ]
     },
     "metadata": {},
     "output_type": "display_data"
    }
   ],
   "source": [
    "plt.figure(figsize=(10,15))\n",
    "ax = sns.barplot(x=feature_importance['Coefficient'],y = feature_importance['Features'], palette = 'GnBu_d')\n",
    "plt.xlabel('Feature Importance',fontsize = 12)\n",
    "plt.ylabel('Feature',fontsize = 12)"
   ]
  }
 ],
 "metadata": {
  "kernelspec": {
   "display_name": "Python 3",
   "language": "python",
   "name": "python3"
  },
  "language_info": {
   "codemirror_mode": {
    "name": "ipython",
    "version": 3
   },
   "file_extension": ".py",
   "mimetype": "text/x-python",
   "name": "python",
   "nbconvert_exporter": "python",
   "pygments_lexer": "ipython3",
   "version": "3.8.8"
  }
 },
 "nbformat": 4,
 "nbformat_minor": 5
}
